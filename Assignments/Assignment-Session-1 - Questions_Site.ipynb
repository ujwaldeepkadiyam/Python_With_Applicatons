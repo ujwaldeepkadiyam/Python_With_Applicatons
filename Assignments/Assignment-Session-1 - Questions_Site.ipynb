{
 "cells": [
  {
   "cell_type": "markdown",
   "id": "065eabd3",
   "metadata": {},
   "source": [
    " \n",
    "# 📝 Practice: Finding Data Types in Python\n",
    " "
   ]
  },
  {
   "cell_type": "markdown",
   "id": "4573923d",
   "metadata": {},
   "source": [
    "## 🔹 Question 1\n",
    "Find the data type of the variable `x = 10`."
   ]
  },
  {
   "cell_type": "markdown",
   "id": "99981383",
   "metadata": {},
   "source": [
    "---\n",
    "\n",
    "## 🔹 Question 2\n",
    "\n",
    "Find the data type of the variable `y = 3.14`."
   ]
  },
  {
   "cell_type": "markdown",
   "id": "8b448e74",
   "metadata": {},
   "source": [
    "---\n",
    "\n",
    "## 🔹 Question 3\n",
    "\n",
    "Find the data type of the variable `name = \"Python\"`."
   ]
  },
  {
   "cell_type": "markdown",
   "id": "5e258f8e",
   "metadata": {},
   "source": [
    "---\n",
    "\n",
    "## 🔹 Question 4\n",
    "\n",
    "Find the data type of the variable `is_valid = True`."
   ]
  },
  {
   "cell_type": "markdown",
   "id": "e303cf8a",
   "metadata": {},
   "source": [
    "---\n",
    "\n",
    "## 🔹 Question 5\n",
    "\n",
    "- Find the data type of the variable `numbers = [1, 2, 3, 4, 5, 'a', 'b', '345',675]`.\n",
    "- Find data type of fourth and eight element in the list\n"
   ]
  },
  {
   "cell_type": "markdown",
   "id": "f4805593",
   "metadata": {},
   "source": [
    "# 📝 Practice: Word Problem Style Math in Python\n"
   ]
  },
  {
   "cell_type": "markdown",
   "id": "c5eb2b8d",
   "metadata": {},
   "source": [
    "## 🔹 Question 1  \n",
    "A shopkeeper sold 15 pens at ₹12 each and 10 pencils at ₹5 each.  \n",
    "Find the total money he earned.  "
   ]
  },
  {
   "cell_type": "markdown",
   "id": "0ee9c8cf",
   "metadata": {},
   "source": [
    "---\n",
    "\n",
    "## 🔹 Question 2\n",
    "\n",
    "A car travels at a speed of 60 km/h for 2.5 hours.\n",
    "Find the total distance traveled."
   ]
  },
  {
   "cell_type": "markdown",
   "id": "47848317",
   "metadata": {},
   "source": [
    "---\n",
    "\n",
    "## 🔹 Question 3\n",
    "\n",
    "The area of a circle is given by formula `A = πr²`.\n",
    "Find the area when radius `r = 7`."
   ]
  },
  {
   "cell_type": "markdown",
   "id": "de4fe7a2",
   "metadata": {},
   "source": [
    "---\n",
    "\n",
    "## 🔹 Question 4\n",
    "\n",
    "A student scored 85, 90, 78, 92, and 88 in 5 subjects.\n",
    "Find the average score."
   ]
  },
  {
   "cell_type": "markdown",
   "id": "6855722c",
   "metadata": {},
   "source": [
    "---\n",
    "\n",
    "## 🔹 Question 5\n",
    "\n",
    "The principal amount is ₹5000, rate of interest is 8% per year, and time is 2 years.\n",
    "Find the compound interest using the formula:\n",
    "\n",
    "$$\n",
    "CI = P \\times \\big( (1 + R/100)^T - 1 \\big)\n",
    "$$"
   ]
  },
  {
   "cell_type": "markdown",
   "id": "ace035d7",
   "metadata": {
    "lines_to_next_cell": 0
   },
   "source": [
    "---\n",
    "\n",
    "# 📝 Practice: Indexing in Python\n",
    "\n",
    "Given the list:"
   ]
  },
  {
   "cell_type": "code",
   "execution_count": null,
   "id": "e1ba51db",
   "metadata": {},
   "outputs": [],
   "source": [
    "fruits = [\"apple\", \"banana\", \"cherry\", \"date\", \"elderberry\"]"
   ]
  },
  {
   "cell_type": "markdown",
   "id": "248ffec5",
   "metadata": {},
   "source": [
    "---\n",
    "\n",
    "## 🔹 Question 1\n",
    "\n",
    "Access the first element from the list."
   ]
  },
  {
   "cell_type": "markdown",
   "id": "d6ff7e62",
   "metadata": {},
   "source": [
    "---\n",
    "\n",
    "## 🔹 Question 2\n",
    "\n",
    "Access the last element using negative indexing."
   ]
  },
  {
   "cell_type": "markdown",
   "id": "84f0f9f1",
   "metadata": {},
   "source": [
    "---\n",
    "\n",
    "## 🔹 Question 3\n",
    "\n",
    "Access the third element from the list."
   ]
  },
  {
   "cell_type": "markdown",
   "id": "54614d99",
   "metadata": {},
   "source": [
    "---\n",
    "\n",
    "## 🔹 Question 4\n",
    "\n",
    "Access the second-to-last element using negative indexing."
   ]
  },
  {
   "cell_type": "markdown",
   "id": "1ebaa173",
   "metadata": {},
   "source": [
    "---\n",
    "\n",
    "## 🔹 Question 5\n",
    "\n",
    "Access the first three elements using slicing."
   ]
  },
  {
   "cell_type": "markdown",
   "id": "8e2908f1",
   "metadata": {},
   "source": []
  },
  {
   "cell_type": "markdown",
   "id": "6f5a7d64",
   "metadata": {
    "lines_to_next_cell": 0
   },
   "source": [
    "---\n",
    "\n",
    "# 📝 Practice: List Operations in Python\n",
    "\n",
    "Given the list:"
   ]
  },
  {
   "cell_type": "code",
   "execution_count": 12,
   "id": "3221a4e7",
   "metadata": {},
   "outputs": [],
   "source": [
    "numbers = [10, 20, 30, 40, 50]"
   ]
  },
  {
   "cell_type": "markdown",
   "id": "d046c310",
   "metadata": {},
   "source": [
    "---\n",
    "\n",
    "## 🔹 Question 1\n",
    "\n",
    "Find the length of the list `numbers`."
   ]
  },
  {
   "cell_type": "markdown",
   "id": "0c37cbfd",
   "metadata": {},
   "source": [
    "---\n",
    "\n",
    "## 🔹 Question 2\n",
    "\n",
    "Access the first and last element from the list."
   ]
  },
  {
   "cell_type": "markdown",
   "id": "9c243146",
   "metadata": {},
   "source": [
    "---\n",
    "\n",
    "## 🔹 Question 3\n",
    "\n",
    "Add the number `60` to the end of the list."
   ]
  },
  {
   "cell_type": "markdown",
   "id": "e4855465",
   "metadata": {},
   "source": [
    "---\n",
    "\n",
    "## 🔹 Question 4\n",
    "\n",
    "Insert `25` at index 2 in the list."
   ]
  },
  {
   "cell_type": "markdown",
   "id": "0cca6985",
   "metadata": {},
   "source": [
    "---\n",
    "\n",
    "## 🔹 Question 5\n",
    "\n",
    "Remove the element `30` from the list."
   ]
  },
  {
   "cell_type": "markdown",
   "id": "338ffeeb",
   "metadata": {},
   "source": [
    "---\n",
    "\n",
    "## 🔹 Question 6\n",
    "\n",
    "Find the sum of all elements in the list."
   ]
  },
  {
   "cell_type": "markdown",
   "id": "011ccd63",
   "metadata": {},
   "source": [
    "---\n",
    "\n",
    "## 🔹 Question 7\n",
    "\n",
    "Sort the list in descending order."
   ]
  },
  {
   "cell_type": "markdown",
   "id": "bcbce356",
   "metadata": {},
   "source": [
    "---"
   ]
  },
  {
   "cell_type": "markdown",
   "id": "9bd22f24",
   "metadata": {
    "lines_to_next_cell": 0
   },
   "source": [
    "# 📝 Practice: Tuple Operations in Python\n",
    "\n",
    "Given the tuple:"
   ]
  },
  {
   "cell_type": "code",
   "execution_count": 25,
   "id": "69d3c7a6",
   "metadata": {},
   "outputs": [],
   "source": [
    "numbers = (10, 20, 30, 40)"
   ]
  },
  {
   "cell_type": "markdown",
   "id": "f69e8f58",
   "metadata": {},
   "source": [
    "---\n",
    "\n",
    "## 🔹 Question 1: Updating a Tuple\n",
    "\n",
    "Change the second element (20) to 25."
   ]
  },
  {
   "cell_type": "markdown",
   "id": "fea102ba",
   "metadata": {},
   "source": [
    "---\n",
    "\n",
    "## 🔹 Question 2: Appending an Element\n",
    "\n",
    "Append `50` to the tuple."
   ]
  },
  {
   "cell_type": "markdown",
   "id": "14201931",
   "metadata": {},
   "source": [
    "---\n",
    "\n",
    "## 🔹 Question 3: Concatenating Two Tuples\n",
    "\n",
    "Concatenate `(60, 70)` to the given tuple."
   ]
  },
  {
   "cell_type": "markdown",
   "id": "a9a58c6f",
   "metadata": {},
   "source": [
    "---\n",
    "\n",
    "## 🔹 Question 4: Repeating a Tuple\n",
    "\n",
    "Repeat the tuple 3 times."
   ]
  },
  {
   "cell_type": "markdown",
   "id": "c8810935",
   "metadata": {},
   "source": [
    "---\n",
    "\n",
    "## 🔹 Question 5: Removing an Element\n",
    "\n",
    "Remove `30` from the tuple."
   ]
  },
  {
   "cell_type": "markdown",
   "id": "143864d8",
   "metadata": {
    "lines_to_next_cell": 0
   },
   "source": [
    "---\n",
    "\n",
    "# 📝 Practice: Dictionary Operations in Python\n",
    "\n",
    "Given the dictionary:"
   ]
  },
  {
   "cell_type": "code",
   "execution_count": 35,
   "id": "e8834c84",
   "metadata": {},
   "outputs": [],
   "source": [
    "student = {\"name\": \"Alice\", \"age\": 20, \"grade\": \"A\"}"
   ]
  },
  {
   "cell_type": "markdown",
   "id": "f952850d",
   "metadata": {},
   "source": [
    "---\n",
    "\n",
    "## 🔹 Question 1: Updating a Value\n",
    "\n",
    "Update the age of the student to 21."
   ]
  },
  {
   "cell_type": "markdown",
   "id": "77fdfbee",
   "metadata": {},
   "source": [
    "---\n",
    "\n",
    "## 🔹 Question 2: Appending (Adding) a New Key-Value Pair\n",
    "\n",
    "Add `\"city\": \"Delhi\"` to the dictionary."
   ]
  },
  {
   "cell_type": "markdown",
   "id": "5753169c",
   "metadata": {},
   "source": [
    "---\n",
    "\n",
    "## 🔹 Question 3: Concatenating Two Dictionaries\n",
    "\n",
    "Merge another dictionary `{\"subject\": \"Math\", \"score\": 95}` with `student`."
   ]
  },
  {
   "cell_type": "markdown",
   "id": "9c93d9cd",
   "metadata": {},
   "source": [
    "---\n",
    "\n",
    "## 🔹 Question 4: Removing a Key-Value Pair\n",
    "\n",
    "Remove `\"grade\"` from the dictionary."
   ]
  },
  {
   "cell_type": "markdown",
   "id": "3e013877",
   "metadata": {},
   "source": [
    "---\n",
    "\n",
    "## 🔹 Question 5: Accessing Keys and Values\n",
    "\n",
    "Print all keys and all values separately."
   ]
  },
  {
   "cell_type": "markdown",
   "id": "32dc92c6",
   "metadata": {},
   "source": [
    "---"
   ]
  },
  {
   "cell_type": "markdown",
   "id": "e9bb0d10",
   "metadata": {},
   "source": [
    "# 📝 Practice: Creating DataFrames in Python\n",
    "\n",
    "---\n",
    "\n",
    "## 🔹 Question 1  \n",
    "\n",
    "You are given the following student data:  \n",
    "\n",
    "| Name    | Age | Grade |\n",
    "|---------|-----|-------|\n",
    "| Alice   | 20  | A     |\n",
    "| Bob     | 25  | B     |\n",
    "| Charlie | 23  | A     |\n",
    "| David   | 22  | C     |\n",
    "\n",
    "👉 Create a DataFrame with the columns **Name, Age, Grade** from the above data.  \n",
    "  "
   ]
  },
  {
   "cell_type": "markdown",
   "id": "d5afcc4f",
   "metadata": {},
   "source": [
    "---\n",
    "\n",
    "## 🔹 Question 2\n",
    "\n",
    "You are given the following product data:\n",
    "\n",
    "| Product | Price | Stock |\n",
    "| ------- | ----- | ----- |\n",
    "| Laptop  | 80000 | 10    |\n",
    "| Phone   | 30000 | 25    |\n",
    "| Tablet  | 20000 | 18    |\n",
    "| Monitor | 15000 | 12    |\n",
    "\n",
    "👉 Create a DataFrame with the columns **Product, Price, Stock** from the above data.\n",
    "\n"
   ]
  },
  {
   "cell_type": "markdown",
   "id": "f73b89db",
   "metadata": {},
   "source": [
    "\n"
   ]
  },
  {
   "cell_type": "markdown",
   "id": "9bdb39c2",
   "metadata": {},
   "source": [
    "# Dealing with dataframes\n",
    "\n",
    "---\n",
    "\n",
    "you can access datasets from here : [1]: https://hackernoon.com/15-excel-datasets-for-data-analytics-beginners?utm_source=chatgpt.com \"15 Excel Datasets for Data Analytics Beginners\"\n"
   ]
  },
  {
   "cell_type": "markdown",
   "id": "02bc3460",
   "metadata": {},
   "source": [
    "### Instructions for Your Notebook\n",
    " download the csv file from : https://github.com/Siddharth1698/New-York-City-Airbnb-Data-Case-Study\n",
    "\n",
    "Use `pandas` to read the csv file :\n",
    "\n",
    "---"
   ]
  },
  {
   "cell_type": "markdown",
   "id": "cffceb81",
   "metadata": {
    "jp-MarkdownHeadingCollapsed": true,
    "lines_to_next_cell": 0
   },
   "source": [
    "---\n",
    "\n",
    "## Question 1: Display the first 10 rows of the dataset."
   ]
  },
  {
   "cell_type": "markdown",
   "id": "973af686",
   "metadata": {},
   "source": [
    "---\n",
    "\n",
    "## Question 2: Display the last 5 rows of the dataset."
   ]
  },
  {
   "cell_type": "markdown",
   "id": "2518acb0",
   "metadata": {},
   "source": [
    "---\n",
    "\n",
    "## Question 3: Select a random sample of 7 rows."
   ]
  },
  {
   "cell_type": "markdown",
   "id": "e8968e72",
   "metadata": {},
   "source": [
    "---\n",
    "\n",
    "## Question 4: Slice the dataset to display rows from 100 to 110 and only the columns `name`, `host_name`, and `price`."
   ]
  },
  {
   "cell_type": "markdown",
   "id": "af06dad0",
   "metadata": {},
   "source": [
    "---\n",
    "\n",
    "## Question 5: Drop unnecessary columns – remove `latitude` and `longitude` from the dataset."
   ]
  },
  {
   "cell_type": "markdown",
   "id": "0fa392cd",
   "metadata": {},
   "source": [
    "---\n",
    "\n",
    "## Question 6: Add a new column called `price_per_minimum_nights` (i.e., `price / minimum_nights`)."
   ]
  },
  {
   "cell_type": "markdown",
   "id": "bf12f34a",
   "metadata": {},
   "source": [
    "---\n",
    "\n",
    "## Question 7: Rename the column `neighbourhood_group` to `borough`."
   ]
  },
  {
   "cell_type": "markdown",
   "id": "63d98856",
   "metadata": {},
   "source": [
    "---\n",
    "\n",
    "## Question 8: Export the modified dataset into **Excel** and **Text** formats.\n",
    "\n",
    "* Save as Excel with the name: `airbnb_data.xlsx`\n",
    "* Save as Tab-separated text file with the name: `airbnb_data.txt`"
   ]
  },
  {
   "cell_type": "markdown",
   "id": "4dcbf454",
   "metadata": {},
   "source": [
    "# 🏠 NYC Airbnb Dataset – Pandas Essentials\n"
   ]
  },
  {
   "cell_type": "markdown",
   "id": "2e008d1c",
   "metadata": {
    "lines_to_next_cell": 0
   },
   "source": [
    "---\n",
    "\n",
    "## Question 1: Load the dataset and display its **shape** (rows and columns)."
   ]
  },
  {
   "cell_type": "markdown",
   "id": "9c94b7ec",
   "metadata": {},
   "source": [
    "---\n",
    "\n",
    "## Question 2: Display the **first 5 rows** using slicing."
   ]
  },
  {
   "cell_type": "markdown",
   "id": "d935417f",
   "metadata": {},
   "source": [
    "---\n",
    "\n",
    "## Question 3: Select rows **10 to 15** using `.iloc`."
   ]
  },
  {
   "cell_type": "markdown",
   "id": "2cc85b21",
   "metadata": {},
   "source": [
    "---\n",
    "\n",
    "## Question 4: Select rows **100 to 105** and only the columns `name`, `host_name`, `price` using `.loc`."
   ]
  },
  {
   "cell_type": "markdown",
   "id": "9942e775",
   "metadata": {},
   "source": [
    "---\n",
    "\n",
    "## Question 5: Show **information** about the dataset (columns, data types, memory usage)."
   ]
  },
  {
   "cell_type": "markdown",
   "id": "1cca28f7",
   "metadata": {},
   "source": [
    "---\n",
    "\n",
    "## Question 6: Display the **column names** as a NumPy array."
   ]
  },
  {
   "cell_type": "markdown",
   "id": "903a5615",
   "metadata": {},
   "source": [
    "---\n",
    "\n",
    "## Question 7: Display the **data types** of each column."
   ]
  },
  {
   "cell_type": "markdown",
   "id": "83b5f6d1",
   "metadata": {},
   "source": [
    "---\n",
    "\n",
    "## Question 8: Show the **summary statistics** of the dataset."
   ]
  },
  {
   "cell_type": "markdown",
   "id": "e4ef8842",
   "metadata": {},
   "source": [
    "---\n",
    "\n",
    "## Question 9: Find the **total number of missing values** in the dataset."
   ]
  },
  {
   "cell_type": "markdown",
   "id": "8a320c84",
   "metadata": {},
   "source": [
    "---\n",
    "\n",
    "## Question 10: Create a **new DataFrame** containing only the columns `name`, `host_name`, `neighbourhood_group`, and `price`."
   ]
  },
  {
   "cell_type": "markdown",
   "id": "44f59711",
   "metadata": {},
   "source": [
    "\n",
    "\n",
    "\n",
    "\n",
    "\n"
   ]
  }
 ],
 "metadata": {
  "kernelspec": {
   "display_name": "Python 3 (ipykernel)",
   "language": "python",
   "name": "python3"
  },
  "language_info": {
   "codemirror_mode": {
    "name": "ipython",
    "version": 3
   },
   "file_extension": ".py",
   "mimetype": "text/x-python",
   "name": "python",
   "nbconvert_exporter": "python",
   "pygments_lexer": "ipython3",
   "version": "3.12.3"
  }
 },
 "nbformat": 4,
 "nbformat_minor": 5
}
