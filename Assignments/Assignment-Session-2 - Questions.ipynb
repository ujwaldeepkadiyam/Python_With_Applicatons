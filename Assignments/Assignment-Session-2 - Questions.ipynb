{
 "cells": [
  {
   "cell_type": "markdown",
   "id": "5cb6391d",
   "metadata": {},
   "source": []
  },
  {
   "cell_type": "markdown",
   "id": "accb6352",
   "metadata": {},
   "source": [
    "Dataset URL (CSV – Kaggle version hosted on GitHub):"
   ]
  },
  {
   "cell_type": "code",
   "execution_count": null,
   "id": "f980e0f0",
   "metadata": {},
   "outputs": [],
   "source": [
    "url = \"https://raw.githubusercontent.com/datasciencedojo/datasets/master/titanic.csv\""
   ]
  },
  {
   "cell_type": "markdown",
   "id": "512de4a1",
   "metadata": {},
   "source": [
    "---\n",
    "\n",
    "# 🚢 Titanic Dataset – Filtering with Logical Operators\n"
   ]
  },
  {
   "cell_type": "markdown",
   "id": "b3192c8c",
   "metadata": {},
   "source": [
    "---"
   ]
  },
  {
   "cell_type": "markdown",
   "id": "0a73f5ee",
   "metadata": {
    "lines_to_next_cell": 0
   },
   "source": [
    "## Question 1\n",
    "Filter all passengers who are **male AND older than 50 years**.  "
   ]
  },
  {
   "cell_type": "markdown",
   "id": "6da89a77",
   "metadata": {},
   "source": [
    "---\n",
    "\n",
    "## Question 2\n",
    "\n",
    "Select all passengers who are **female OR paid a fare greater than 100**."
   ]
  },
  {
   "cell_type": "markdown",
   "id": "9706e83b",
   "metadata": {},
   "source": [
    "---\n",
    "\n",
    "## Question 3\n",
    "\n",
    "Get all passengers whose **Pclass is in \\[1, 2] AND Embarked is \"S\"**."
   ]
  },
  {
   "cell_type": "markdown",
   "id": "7d585f76",
   "metadata": {},
   "source": [
    "---\n",
    "\n",
    "## Question 4\n",
    "\n",
    "Find passengers who are **NOT in Pclass 3 AND Age < 30**."
   ]
  },
  {
   "cell_type": "markdown",
   "id": "2974d297",
   "metadata": {},
   "source": [
    "---\n",
    "\n",
    "## Question 5 ⭐ (Combination)\n",
    "\n",
    "Select all passengers who satisfy:\n",
    "\n",
    "* **Survived = 1**, AND\n",
    "* **(Pclass = 1 OR Fare > 200)**, AND\n",
    "* **Embarked is NOT \"Q\"**"
   ]
  },
  {
   "cell_type": "markdown",
   "id": "71878a37",
   "metadata": {},
   "source": [
    "---\n"
   ]
  },
  {
   "cell_type": "markdown",
   "id": "c9f3cca2",
   "metadata": {},
   "source": [
    "### Practice Assignment: Comparison Operator Filtering"
   ]
  },
  {
   "cell_type": "markdown",
   "id": "bf370622",
   "metadata": {
    "lines_to_next_cell": 0
   },
   "source": [
    "---\n",
    "\n",
    "## Question 1  \n",
    "**Filter all passengers who are exactly 30 years old.**\n",
    "\n",
    "### Solution:"
   ]
  },
  {
   "cell_type": "markdown",
   "id": "2cf76d4a",
   "metadata": {},
   "source": [
    "---\n",
    "\n",
    "## Question 2\n",
    "\n",
    "**Select all passengers who paid a fare greater than 100.**\n",
    "\n",
    "### Solution:"
   ]
  },
  {
   "cell_type": "markdown",
   "id": "bf41d98e",
   "metadata": {},
   "source": [
    "---\n",
    "\n",
    "## Question 3\n",
    "\n",
    "**Find passengers who were younger than 20 years old and were in 3rd class (`Pclass == 3`).**\n",
    "\n",
    "### Solution:"
   ]
  },
  {
   "cell_type": "markdown",
   "id": "19443ae1",
   "metadata": {},
   "source": [
    "---\n",
    "\n",
    "## Question 4\n",
    "\n",
    "**Get passengers who survived (`Survived == 1`) and paid fare less than or equal to 50 (`Fare <= 50`).**\n",
    "\n",
    "### Solution:"
   ]
  },
  {
   "cell_type": "markdown",
   "id": "51d4dfd5",
   "metadata": {},
   "source": [
    "---\n",
    "\n",
    "## Question 5 ⭐ (Combined comparisons)\n",
    "\n",
    "**Select passengers who meet all of the following criteria:**\n",
    "\n",
    "* Did *not* survive (`Survived == 0`)\n",
    "* Were older than or equal to 60 years (`Age >= 60`)\n",
    "* Paid fare less than 20 (`Fare < 20`)\n",
    "\n",
    "### Solution:"
   ]
  },
  {
   "cell_type": "markdown",
   "id": "4ac3b555",
   "metadata": {},
   "source": [
    "---\n",
    "\n",
    "### Practice Assignment: Special Operator Filtering\n",
    "\n",
    "---\n",
    "\n",
    "- Netflix Dataset – String & Range Filtering"
   ]
  },
  {
   "cell_type": "markdown",
   "id": "f414e6ab",
   "metadata": {},
   "source": [
    "url = \"https://raw.githubusercontent.com/practiceprobs/datasets/main/netflix-titles/netflix-titles.csv\""
   ]
  },
  {
   "cell_type": "markdown",
   "id": "bd8f610a",
   "metadata": {},
   "source": [
    "---\n",
    "\n",
    "## ✅ Question 1: `.str.contains()`\n",
    "\n",
    "**Find all shows whose title contains the word \"Love\".**"
   ]
  },
  {
   "cell_type": "markdown",
   "id": "871258e9",
   "metadata": {},
   "source": [
    "---\n",
    "\n",
    "## ✅ Question 2: `.str.startswith()`\n",
    "\n",
    "**List all shows where the title starts with the letter 'B'.**"
   ]
  },
  {
   "cell_type": "markdown",
   "id": "afb4d669",
   "metadata": {},
   "source": [
    "---\n",
    "\n",
    "## ✅ Question 3: `.str.endswith()`\n",
    "\n",
    "**Find all shows where the director's name ends with 'Smith'.**"
   ]
  },
  {
   "cell_type": "markdown",
   "id": "f7813607",
   "metadata": {},
   "source": [
    "---\n",
    "\n",
    "## ✅ Question 4: `between` – Year Range\n",
    "\n",
    "**Select all shows released between 2010 and 2020 (inclusive).**"
   ]
  },
  {
   "cell_type": "markdown",
   "id": "844b3536",
   "metadata": {},
   "source": [
    "---\n",
    "\n",
    "## ✅ Question 5 ⭐ Combined (String + Range)\n",
    "\n",
    "**Get all TV Shows where:**\n",
    "\n",
    "* The title starts with 'A', AND\n",
    "* The release year is between 2000 and 2010."
   ]
  },
  {
   "cell_type": "markdown",
   "id": "65337d9e",
   "metadata": {},
   "source": [
    "# 📘 Netflix Dataset – Creating New Columns with Arithmetic Operations"
   ]
  },
  {
   "cell_type": "code",
   "execution_count": null,
   "id": "cf5149e3",
   "metadata": {},
   "outputs": [],
   "source": [
    "# Clean up duration column: convert \"90 min\" → 90\n",
    "df[\"duration_num\"] = (\n",
    "    df[\"duration\"]\n",
    "    .str.extract(\"(\\d+)\")\n",
    "    .astype(float)\n",
    ")\n",
    "df.head(5)"
   ]
  },
  {
   "cell_type": "markdown",
   "id": "ba905f90",
   "metadata": {},
   "source": [
    "---\n",
    "\n",
    "## ✅ Question 1: Add 10 minutes to duration\n",
    "\n",
    "**Create a new column `duration_plus10` which adds 10 minutes to the duration.**"
   ]
  },
  {
   "cell_type": "markdown",
   "id": "fed8677b",
   "metadata": {},
   "source": [
    "---\n",
    "\n",
    "## ✅ Question 2: Convert duration into hours\n",
    "\n",
    "**Create a new column `duration_hours` which is duration in hours (duration ÷ 60).**"
   ]
  },
  {
   "cell_type": "markdown",
   "id": "f836273c",
   "metadata": {},
   "source": [
    "---\n",
    "\n",
    "## ✅ Question 3: Years since release\n",
    "\n",
    "**Create a new column `years_since_release` = (2025 – release\\_year).**"
   ]
  },
  {
   "cell_type": "markdown",
   "id": "c4e82a80",
   "metadata": {},
   "source": [
    "---\n",
    "\n",
    "## ✅ Question 4: Double duration for movies only\n",
    "\n",
    "**For type = 'Movie', create a column `double_duration` which is 2 × duration.**"
   ]
  },
  {
   "cell_type": "markdown",
   "id": "5fcbca77",
   "metadata": {},
   "source": [
    "---\n",
    "\n",
    "## ✅ Question 5 ⭐ Combined Operations\n",
    "\n",
    "**Create a column `score` = (duration ÷ 30) + (years\\_since\\_release ÷ 5).**\n",
    "(This is an arbitrary score combining duration and how old the movie is.)"
   ]
  },
  {
   "cell_type": "markdown",
   "id": "8ea6e6b2",
   "metadata": {
    "lines_to_next_cell": 0
   },
   "source": [
    "---\n",
    "\n",
    "# 📘 Netflix Dataset – Sorting"
   ]
  },
  {
   "cell_type": "markdown",
   "id": "a79708fa",
   "metadata": {},
   "source": [
    "url = \"https://raw.githubusercontent.com/practiceprobs/datasets/main/netflix-titles/netflix-titles.csv\""
   ]
  },
  {
   "cell_type": "markdown",
   "id": "3d6efe4d",
   "metadata": {},
   "source": [
    "---\n",
    "\n",
    "## ✅ Question 1: Sort by release year (descending), then title (ascending)\n",
    "\n",
    "**Arrange the dataset so that the latest release year comes first.\n",
    "If two shows have the same release year, sort them alphabetically by title.**"
   ]
  },
  {
   "cell_type": "markdown",
   "id": "9f51dab4",
   "metadata": {},
   "source": [
    "---\n",
    "\n",
    "## ✅ Question 2: Sort by country (ascending), then release year (descending)\n",
    "\n",
    "**Arrange the dataset so that countries are in alphabetical order.\n",
    "Within each country, the latest release year should appear first.**"
   ]
  },
  {
   "cell_type": "markdown",
   "id": "8f6f6be1",
   "metadata": {},
   "source": [
    "---\n",
    "\n",
    "## ✅ Question 3: Sort by type (ascending), then duration (descending)\n",
    "\n",
    "**Arrange the dataset so that `Movie` comes before `TV Show`.\n",
    "Within each type, sort by duration (largest first).**\n",
    "\n",
    "> Note: For TV Shows, \"duration\" is in seasons, not minutes, but we’ll still sort it as is."
   ]
  },
  {
   "cell_type": "markdown",
   "id": "c60665ce",
   "metadata": {},
   "source": [
    "---\n",
    "\n",
    "# 📘 Netflix Dataset – GroupBy & Aggregation (Q\\&A with Explanations)"
   ]
  },
  {
   "cell_type": "markdown",
   "id": "7fd02ca5",
   "metadata": {},
   "source": [
    "---\n",
    "\n",
    "## **Q1. Find the number of titles released per country.**"
   ]
  },
  {
   "cell_type": "markdown",
   "id": "d8be17db-8d11-4024-a272-08623a1342c6",
   "metadata": {},
   "source": [
    "## **Q2. Group by `type` (Movie/TV Show) and compute: total number of titles, earliest release year, latest release year.**"
   ]
  },
  {
   "cell_type": "markdown",
   "id": "64d02df8",
   "metadata": {},
   "source": [
    "## Q3. Group by `rating` and find: number of titles, number of unique countries, first title alphabetically."
   ]
  },
  {
   "cell_type": "markdown",
   "id": "5c4c536c-d5ed-4ad5-94a7-32d072ca72ca",
   "metadata": {},
   "source": [
    "## **Q4. Group by `release_year` and calculate: number of titles, maximum duration, last listed director.**"
   ]
  },
  {
   "cell_type": "markdown",
   "id": "3961a53e-0f37-4033-ac36-ee182929ac4f",
   "metadata": {},
   "source": [
    "## **Q5. Group by `country` and `type`, then compute: number of titles, earliest release year, latest release year.**"
   ]
  },
  {
   "cell_type": "markdown",
   "id": "fd34f0bc",
   "metadata": {},
   "source": [
    "## **Q6. Group by `country` and `rating`, then compute multiple aggregations on different columns with renamed new columns.**"
   ]
  },
  {
   "cell_type": "markdown",
   "id": "db62d75c",
   "metadata": {},
   "source": [
    "# creating buckets (filtering using if-else)\n",
    "\n",
    "Create a new column **`AgeGroup`** with a **custom Python function** (not `lambda`) based on the following rules:\n",
    "\n",
    "* If `Age < 18` → `\"Child\"`\n",
    "* Else if `18 <= Age < 40` → `\"Young Adult\"`\n",
    "* Else if `40 <= Age < 60` → `\"Adult\"`\n",
    "* Else → `\"Senior\"`\n",
    "* use titanic dataset with url = \"https://raw.githubusercontent.com/datasciencedojo/datasets/master/titanic.csv\"\n",
    "\n",
    "---\n",
    "\n"
   ]
  },
  {
   "cell_type": "markdown",
   "id": "b936f64e",
   "metadata": {},
   "source": [
    "## Using Lambda Function\n",
    "\n",
    "Create a new column **`AgeGroup`** based on the following rules:\n",
    "\n",
    "* If `Age < 18` → `\"Child\"`\n",
    "* Else if `18 <= Age < 40` → `\"Young Adult\"`\n",
    "* Else if `40 <= Age < 60` → `\"Adult\"`\n",
    "* Else → `\"Senior\"`\n",
    "\n",
    "---\n",
    "\n"
   ]
  },
  {
   "cell_type": "markdown",
   "id": "a1ccdbac",
   "metadata": {},
   "source": [
    "---\n",
    "\n",
    "Great! Let’s do an **advanced bucketization** using a **custom function with multiple columns**.\n",
    "\n",
    "---\n",
    "\n",
    "## Advanced Bucketing\n",
    "\n",
    "Using the Titanic dataset:\n",
    "\n",
    "Create a new column **`PassengerType`** with the following rules (based on both `Age` and `Fare`):\n",
    "\n",
    "* If `Age < 18` and `Fare > 50` → `\"Rich Child\"`\n",
    "* If `Age < 18` and `Fare <= 50` → `\"Poor Child\"`\n",
    "* If `Age >= 18` and `Fare > 100` → `\"Rich Adult\"`\n",
    "* If `Age >= 18` and `Fare <= 100` → `\"Poor Adult\"`\n",
    "* If `Age` is missing → `\"Unknown\"`\n",
    "\n"
   ]
  },
  {
   "cell_type": "markdown",
   "id": "c986912d",
   "metadata": {},
   "source": [
    "## Update query by mapping\n",
    "\n",
    "Suppose you have a **products dataset** with a column **`Category`** that contains values:\n",
    "\n",
    "* `\"Male\"`\n",
    "* `\"Female\"`\n",
    "* `\"Unisex\"`\n",
    "\n",
    "👉 Create a new column **`Category_Code`** such that:\n",
    "\n",
    "* `\"Male\"` → `\"M\"`\n",
    "* `\"Female\"` → `\"F\"`\n",
    "* `\"Unisex\"` → `\"U\"`\n",
    "\n",
    "Use **`.loc`** for mapping instead of `.replace()` or `.map()`.\n",
    "\n",
    "---\n"
   ]
  },
  {
   "cell_type": "code",
   "execution_count": null,
   "id": "788cc33a",
   "metadata": {},
   "outputs": [],
   "source": [
    "import pandas as pd\n",
    "\n",
    "# Sample dataset\n",
    "data = {\n",
    "    \"ProductID\": [101, 102, 103, 104, 105],\n",
    "    \"Category\": [\"Male\", \"Female\", \"Unisex\", \"Male\", \"Female\"],\n",
    "    \"Price\": [500, 700, 600, 800, 650]\n",
    "}\n",
    "\n",
    "df = pd.DataFrame(data)"
   ]
  },
  {
   "cell_type": "markdown",
   "id": "be67d41b",
   "metadata": {},
   "source": [
    "\n",
    "## ✅ Solution"
   ]
  },
  {
   "cell_type": "markdown",
   "id": "bb60293b",
   "metadata": {},
   "source": [
    "# Delete records based on criterion"
   ]
  },
  {
   "cell_type": "code",
   "execution_count": null,
   "id": "0140abbc",
   "metadata": {
    "lines_to_next_cell": 0
   },
   "outputs": [],
   "source": [
    "import seaborn as sns\n",
    "import pandas as pd\n",
    "\n",
    "# Load dataset\n",
    "df = sns.load_dataset(\"iris\")\n",
    "df.head()"
   ]
  },
  {
   "cell_type": "markdown",
   "id": "bc7d5187",
   "metadata": {},
   "source": []
  },
  {
   "cell_type": "markdown",
   "id": "626883b1",
   "metadata": {},
   "source": [
    "## Assignment Questions on Deleting Records\n",
    "\n",
    "### **Q1. Delete all rows where `species` is `\"setosa\"` AND `sepal_length` is less than 5.0.**\n",
    "\n",
    "*(Combine equality and comparison filtering)*\n"
   ]
  },
  {
   "cell_type": "code",
   "execution_count": null,
   "id": "52a9e9de-6641-4a5d-b640-0ef963bbf6f8",
   "metadata": {},
   "outputs": [],
   "source": [
    "conditions = (df['species']=='setosa') & (df['sepal_length'] < 5.0)\n",
    "rows_to_drop = df[conditions].index\n",
    "df_dropped = df.drop(rows_to_drop)\n",
    "df_dropped"
   ]
  },
  {
   "cell_type": "markdown",
   "id": "dbdb6ec1",
   "metadata": {},
   "source": [
    "### **Q2. Delete all rows where `species` is `\"virginica\"` OR where `sepal_width` is not between 2.5 and 3.5.**\n",
    "\n",
    "*(Combine OR with chained comparison filtering)*\n"
   ]
  },
  {
   "cell_type": "markdown",
   "id": "e05b883b",
   "metadata": {},
   "source": [
    "### **Q3. Delete all rows where the `species` is either `\"setosa\"` or `\"versicolor\"` AND where `petal_length` is greater than 4.5.**\n",
    "\n",
    "*(Combine `isin()` with comparison filtering)*\n",
    "\n",
    "✅ **Solution:**"
   ]
  },
  {
   "cell_type": "code",
   "execution_count": null,
   "id": "b02f7306",
   "metadata": {},
   "outputs": [],
   "source": [
    "import seaborn as sns\n",
    "import pandas as pd\n",
    "\n",
    "# Load dataset\n",
    "df = sns.load_dataset(\"iris\")"
   ]
  },
  {
   "cell_type": "markdown",
   "id": "8ec4784e",
   "metadata": {},
   "source": [
    "# Melt() \n"
   ]
  },
  {
   "cell_type": "markdown",
   "id": "e96565b9",
   "metadata": {},
   "source": [
    "- use the **Tips dataset** from `seaborn` (it has 7 columns: `total_bill`, `tip`, `sex`, `smoker`, `day`, `time`, `size`)."
   ]
  },
  {
   "cell_type": "markdown",
   "id": "87ce8abc",
   "metadata": {},
   "source": [
    "# Assignment Question 1\n",
    "\n",
    "### **Q1. Melt the dataset keeping only `day` as the identifier, and unpivot only the column `tip` into a new column called `Amount`.**\n",
    "\n",
    "✅ **Solution:**"
   ]
  },
  {
   "cell_type": "code",
   "execution_count": null,
   "id": "2e587f8c",
   "metadata": {
    "scrolled": true
   },
   "outputs": [],
   "source": [
    "import seaborn as sns\n",
    "import pandas as pd\n",
    "\n",
    "# Load dataset\n",
    "df = sns.load_dataset(\"tips\")\n",
    "\n"
   ]
  },
  {
   "cell_type": "markdown",
   "id": "a88be957",
   "metadata": {},
   "source": [
    "\n",
    "# Assignment Question 2\n",
    "\n",
    "### **Q4. Melt the dataset keeping only `sex` as the identifier, and unpivot only the column `size` into a new column called `Group_Size`.**\n",
    "\n",
    "✅ **Solution:**"
   ]
  },
  {
   "cell_type": "markdown",
   "id": "0ba3fb59",
   "metadata": {},
   "source": [
    "# Assignment Question 3\n",
    "\n",
    "### **Q3. Melt the dataset keeping only `day` as the identifier, and unpivot the columns `total_bill` and `tip` into a new column called `Bill_Type` and values into `Amount`.**\n",
    "\n",
    "✅ **Solution:**"
   ]
  },
  {
   "cell_type": "code",
   "execution_count": null,
   "id": "8ad877c8",
   "metadata": {},
   "outputs": [],
   "source": [
    "import seaborn as sns\n",
    "import pandas as pd\n",
    "\n",
    "# Load dataset\n",
    "df = sns.load_dataset(\"tips\")\n"
   ]
  },
  {
   "cell_type": "markdown",
   "id": "8bbac0e7",
   "metadata": {},
   "source": [
    "## Pivot Long - Wide Dataset Example"
   ]
  },
  {
   "cell_type": "markdown",
   "id": "1487f651",
   "metadata": {},
   "source": [
    "👉 **This dataset is in long format**:\n",
    "\n",
    "| student | subject | marks | exam    |\n",
    "| ------- | ------- | ----- | ------- |\n",
    "| A       | Math    | 85    | Midterm |\n",
    "| A       | English | 78    | Midterm |\n",
    "| A       | Science | 90    | Midterm |\n",
    "| B       | Math    | 92    | Midterm |\n",
    "| B       | English | 88    | Midterm |\n",
    "| B       | Science | 80    | Midterm |\n",
    "| C       | Math    | 70    | Midterm |\n",
    "| C       | English | 82    | Midterm |\n",
    "| C       | Science | 75    | Midterm |\n",
    "\n",
    "---\n"
   ]
  },
  {
   "cell_type": "code",
   "execution_count": null,
   "id": "3f02ec7f",
   "metadata": {
    "scrolled": true
   },
   "outputs": [],
   "source": [
    "import pandas as pd\n",
    "\n",
    "# Long format dataset\n",
    "df = pd.DataFrame({\n",
    "    \"student\": [\"A\", \"A\", \"A\", \"B\", \"B\", \"B\", \"C\", \"C\", \"C\"],\n",
    "    \"subject\": [\"Math\", \"English\", \"Science\",\n",
    "                \"Math\", \"English\", \"Science\",\n",
    "                \"Math\", \"English\", \"Science\"],\n",
    "    \"marks\": [85, 78, 90, 92, 88, 80, 70, 82, 75],\n",
    "    \"exam\": [\"Midterm\", \"Midterm\", \"Midterm\",\n",
    "             \"Midterm\", \"Midterm\", \"Midterm\",\n",
    "             \"Midterm\", \"Midterm\", \"Midterm\"]\n",
    "})\n",
    "\n",
    "df"
   ]
  },
  {
   "cell_type": "markdown",
   "id": "125a98d0",
   "metadata": {},
   "source": [
    "### 🔹 Question 1\n",
    "\n",
    "**Reshape the dataset so that each student’s marks in different subjects appear in separate columns.**"
   ]
  },
  {
   "cell_type": "markdown",
   "id": "ec6be6a9",
   "metadata": {
    "jp-MarkdownHeadingCollapsed": true
   },
   "source": [
    "👉 **Result (Wide Format):**\n",
    "\n",
    "| student | English | Math | Science |\n",
    "| ------- | ------- | ---- | ------- |\n",
    "| A       | 78      | 85   | 90      |\n",
    "| B       | 88      | 92   | 80      |\n",
    "| C       | 82      | 70   | 75      |\n"
   ]
  },
  {
   "cell_type": "markdown",
   "id": "5d3cd49a-c9aa-4a58-9e4a-5d2ef8310791",
   "metadata": {},
   "source": [
    "- **Solution**"
   ]
  },
  {
   "cell_type": "markdown",
   "id": "dd55475e-e675-462c-b647-e1c23c3a8b7d",
   "metadata": {},
   "source": [
    "### 🔹 Question 2\n",
    "\n",
    "**Reshape the dataset so that subjects appear as rows and each student’s marks are shown in different columns.**"
   ]
  },
  {
   "cell_type": "markdown",
   "id": "0be01a95",
   "metadata": {},
   "source": [
    "👉 **Result (Wide Format):**\n",
    "\n",
    "| subject | A  | B  | C  |\n",
    "| ------- | -- | -- | -- |\n",
    "| English | 78 | 88 | 82 |\n",
    "| Math    | 85 | 92 | 70 |\n",
    "| Science | 90 | 80 | 75 |\n",
    "\n"
   ]
  },
  {
   "cell_type": "markdown",
   "id": "4614f934-2c74-4360-8aa5-8038f7abab04",
   "metadata": {},
   "source": [
    "- **Solution**"
   ]
  },
  {
   "cell_type": "markdown",
   "id": "049a10e2",
   "metadata": {},
   "source": [
    "### Transpose\n",
    "\n",
    "You are given the following DataFrame of student scores:"
   ]
  },
  {
   "cell_type": "code",
   "execution_count": null,
   "id": "abb99e62",
   "metadata": {},
   "outputs": [],
   "source": [
    "import pandas as pd\n",
    "\n",
    "data = {\n",
    "    \"Student\": [\"Alice\", \"Bob\", \"Charlie\"],\n",
    "    \"Math\": [85, 90, 78],\n",
    "    \"Science\": [92, 88, 81],\n",
    "    \"English\": [89, 84, 76]\n",
    "}\n",
    "\n",
    "df = pd.DataFrame(data)\n",
    "print(\"Original DataFrame:\\n\", df)"
   ]
  },
  {
   "cell_type": "markdown",
   "id": "3a6bf245",
   "metadata": {},
   "source": [
    "1. **Transpose the DataFrame** so that subjects (`Math`, `Science`, `English`) become the index, and student names (`Alice`, `Bob`, `Charlie`) become the columns.\n",
    "2. **Transpose it again** to get back the original DataFrame.\n",
    "\n"
   ]
  }
 ],
 "metadata": {
  "kernelspec": {
   "display_name": "Python 3 (ipykernel)",
   "language": "python",
   "name": "python3"
  },
  "language_info": {
   "codemirror_mode": {
    "name": "ipython",
    "version": 3
   },
   "file_extension": ".py",
   "mimetype": "text/x-python",
   "name": "python",
   "nbconvert_exporter": "python",
   "pygments_lexer": "ipython3",
   "version": "3.12.3"
  }
 },
 "nbformat": 4,
 "nbformat_minor": 5
}
