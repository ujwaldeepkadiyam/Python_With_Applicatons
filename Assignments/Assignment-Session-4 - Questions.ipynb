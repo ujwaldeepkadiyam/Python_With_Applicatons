{
 "cells": [
  {
   "cell_type": "markdown",
   "id": "8ec17290",
   "metadata": {},
   "source": [
    "# 📝 Assignment: String Character Functions in Python\n",
    "\n",
    "This assignment explores Python's **string functions** and **pandas string operations**.  \n",
    "Solve the questions and check the provided solutions.\n"
   ]
  },
  {
   "cell_type": "markdown",
   "id": "674746ac",
   "metadata": {
    "lines_to_next_cell": 0
   },
   "source": [
    "## 1. `capitalize()` / `.str.upper()`\n",
    "\n",
    "**Q1.** Convert the string `\"python programming\"` into capitalized form. \n",
    "\n",
    "**Solution:**"
   ]
  },
  {
   "cell_type": "markdown",
   "id": "2b3405a3",
   "metadata": {},
   "source": [
    "**Q2.** Convert the column values `[\"apple\", \"banana\", \"cherry\"]` into uppercase.\n",
    "\n",
    "**Solution:**"
   ]
  },
  {
   "cell_type": "markdown",
   "id": "bc4d7dde",
   "metadata": {},
   "source": [
    "## 2. `casefold()` / `.str.lower()`\n",
    "\n",
    "**Q1.** Convert `\"PYTHON IS FUN\"` into lowercase using `.casefold()`.\n",
    "\n",
    "**Solution:**"
   ]
  },
  {
   "cell_type": "markdown",
   "id": "2631c867",
   "metadata": {},
   "source": [
    "**Q2.** Convert the series `[\"HELLO\", \"WORLD\", \"PYTHON\"]` into lowercase.\n",
    "\n",
    "**Solution:**"
   ]
  },
  {
   "cell_type": "markdown",
   "id": "5d1f86ef",
   "metadata": {},
   "source": []
  },
  {
   "cell_type": "markdown",
   "id": "c372027c",
   "metadata": {},
   "source": [
    "## 3. `.str.title()`\n",
    "\n",
    "**Q1.** Convert `\"welcome to data science\"` into title case.\n",
    "\n",
    "**Solution:**"
   ]
  },
  {
   "cell_type": "markdown",
   "id": "678ebeda",
   "metadata": {},
   "source": [
    "**Q2.** Convert the series `[\"machine learning\", \"deep learning\"]` into title case.\n",
    "\n",
    "**Solution:**"
   ]
  },
  {
   "cell_type": "markdown",
   "id": "465cbe76",
   "metadata": {},
   "source": []
  },
  {
   "cell_type": "markdown",
   "id": "a0bba43b",
   "metadata": {},
   "source": [
    "## 4. String Concatenation (`+`)\n",
    "\n",
    "**Q1.** Concatenate `\"Data\"` and `\"Science\"` with a hyphen.\n",
    "\n",
    "**Solution:**"
   ]
  },
  {
   "cell_type": "markdown",
   "id": "36f17e3f",
   "metadata": {},
   "source": [
    "**Q2.** Combine first and last names from two Series:\n",
    "`[\"John\", \"Jane\"]` and `[\"Doe\", \"Smith\"]`.\n",
    "**Solution:**"
   ]
  },
  {
   "cell_type": "markdown",
   "id": "024ecf6e",
   "metadata": {},
   "source": [
    "## 5. `index()`\n",
    "\n",
    "**Q1.** Find the position of `\"o\"` in `\"Notebook\"`.\n",
    "\n",
    "**Solution:**"
   ]
  },
  {
   "cell_type": "markdown",
   "id": "2f0ee7a8",
   "metadata": {},
   "source": [
    "**Q2.** Find the index of `\"a\"` in each element of `[\"cat\", \"bat\", \"rat\"]`.\n",
    "\n",
    "**Solution:**"
   ]
  },
  {
   "cell_type": "markdown",
   "id": "bd7b6015",
   "metadata": {},
   "source": [
    "## 6. `split()`\n",
    "\n",
    "**Q1.** Split `\"Python Programming Language\"` into words.\n",
    "\n",
    "**Solution:**"
   ]
  },
  {
   "cell_type": "markdown",
   "id": "e56bd92e",
   "metadata": {},
   "source": [
    "**Q2.** Split each element of the Series `[\"a-b-c\", \"d-e-f\"]` by `\"-\"`.\n",
    "\n",
    "**Solution:**"
   ]
  },
  {
   "cell_type": "markdown",
   "id": "a37c6cd4",
   "metadata": {},
   "source": [
    "## 7. `.apply(lambda x: x.split(' ')[0])`\n",
    "\n",
    "**Q1.** Extract the first word from `\"Data Science Rocks\"`.\n",
    "\n",
    "**Solution:**"
   ]
  },
  {
   "cell_type": "markdown",
   "id": "e23a17bd",
   "metadata": {},
   "source": [
    "**Q2.** Extract the first word from each element in `[\"John Doe\", \"Jane Smith\"]`.\n",
    "\n",
    "**Solution:**"
   ]
  },
  {
   "cell_type": "markdown",
   "id": "d9efa801",
   "metadata": {},
   "source": [
    "## 8. `.apply(lambda x: x.split(' ')[1])`\n",
    "\n",
    "**Q1.** Extract the second word from `\"Deep Learning Model\"`.\n",
    "\n",
    "**Solution:**"
   ]
  },
  {
   "cell_type": "markdown",
   "id": "6782f65f",
   "metadata": {},
   "source": [
    "**Q2.** Extract the second word from each element in `[\"Alice Johnson\", \"Bob Smith\"]`.\n",
    "\n",
    "**Solution:**"
   ]
  },
  {
   "cell_type": "markdown",
   "id": "496a6737",
   "metadata": {},
   "source": []
  },
  {
   "cell_type": "markdown",
   "id": "6ff33d1d",
   "metadata": {},
   "source": [
    "## 9. `replace()`\n",
    "\n",
    "**Q1.** Replace `\"dog\"` with `\"cat\"` in `\"I have a dog\"`.\n",
    "\n",
    "**Solution:**"
   ]
  },
  {
   "cell_type": "markdown",
   "id": "fb6e3f3a",
   "metadata": {},
   "source": [
    "**Q2.** Replace `\"a\"` with `\"@\"` in each element of `[\"apple\", \"banana\", \"grape\"]`.\n",
    "\n",
    "**Solution:**"
   ]
  },
  {
   "cell_type": "markdown",
   "id": "00f34feb",
   "metadata": {},
   "source": [
    "## 10. `strip()`\n",
    "\n",
    "**Q1.** Remove spaces from `\"   hello   \"`.\n",
    "\n",
    "**Solution:**"
   ]
  },
  {
   "cell_type": "markdown",
   "id": "21b064aa",
   "metadata": {},
   "source": [
    "**Q2.** Remove extra spaces from each element of `[\"  cat \", \" dog  \"]`.\n",
    "\n",
    "**Solution:**"
   ]
  },
  {
   "cell_type": "markdown",
   "id": "090ba261",
   "metadata": {},
   "source": []
  },
  {
   "cell_type": "markdown",
   "id": "6d50dce9",
   "metadata": {},
   "source": [
    "## 11. `lstrip()`\n",
    "\n",
    "**Q1.** Remove leading spaces from `\"   python\"`.\n",
    "\n",
    "**Solution:**"
   ]
  },
  {
   "cell_type": "markdown",
   "id": "a39fdfc7",
   "metadata": {},
   "source": [
    "**Q2.** Remove leading spaces from each element of `[\"  red\", \"  blue\"]`.\n",
    "\n",
    "**Solution:**"
   ]
  },
  {
   "cell_type": "markdown",
   "id": "19858a7f",
   "metadata": {},
   "source": []
  },
  {
   "cell_type": "markdown",
   "id": "d1484639",
   "metadata": {},
   "source": [
    "## 12. `rstrip()`\n",
    "\n",
    "**Q1.** Remove trailing spaces from `\"python   \"`.\n",
    "\n",
    "**Solution:**"
   ]
  },
  {
   "cell_type": "markdown",
   "id": "4b7ddf7f",
   "metadata": {},
   "source": [
    "**Q2.** Remove trailing spaces from each element of `[\"green  \", \"yellow   \"]`.\n",
    "\n",
    "**Solution:**"
   ]
  },
  {
   "cell_type": "markdown",
   "id": "ec1d3cdb",
   "metadata": {},
   "source": [
    "# 📝 Assignment: Summarizing Quarterly Sales\n",
    "\n",
    "We will use the following product sales DataFrame:"
   ]
  },
  {
   "cell_type": "code",
   "execution_count": 34,
   "id": "70ef59fb",
   "metadata": {
    "lines_to_next_cell": 0
   },
   "outputs": [
    {
     "name": "stdout",
     "output_type": "stream",
     "text": [
      "  Product Region  Q1_Sales  Q2_Sales  Q3_Sales  Q4_Sales\n",
      "0  Laptop  North       200       220       210       230\n",
      "1  Laptop  South       180       190       185       195\n",
      "2  Tablet  North       150       160       155       165\n",
      "3  Tablet  South       130       140       135       145\n",
      "4   Phone  North       300       320       310       330\n",
      "5   Phone  South       280       290       285       295\n"
     ]
    }
   ],
   "source": [
    "import pandas as pd\n",
    "\n",
    "data = {\n",
    "    \"Product\": [\"Laptop\", \"Laptop\", \"Tablet\", \"Tablet\", \"Phone\", \"Phone\"],\n",
    "    \"Region\": [\"North\", \"South\", \"North\", \"South\", \"North\", \"South\"],\n",
    "    \"Q1_Sales\": [200, 180, 150, 130, 300, 280],\n",
    "    \"Q2_Sales\": [220, 190, 160, 140, 320, 290],\n",
    "    \"Q3_Sales\": [210, 185, 155, 135, 310, 285],\n",
    "    \"Q4_Sales\": [230, 195, 165, 145, 330, 295],\n",
    "}\n",
    "\n",
    "prod_sales = pd.DataFrame(data)\n",
    "print(prod_sales)"
   ]
  },
  {
   "cell_type": "markdown",
   "id": "4bd1b467",
   "metadata": {},
   "source": []
  },
  {
   "cell_type": "markdown",
   "id": "45eda91b",
   "metadata": {},
   "source": [
    "## Q1. Row-wise Quarter Total (per product-region)\n",
    "\n",
    "**Question:** Add new columns `Qtr_1_total_sales`, `Qtr_2_total_sales`, etc., for each quarter by summing sales.\n",
    "\n",
    "**Answer:**"
   ]
  },
  {
   "cell_type": "markdown",
   "id": "bbe3ebeb",
   "metadata": {},
   "source": [
    "👉 Here we are doing a **row-wise sum** (`axis=1`), which adds values **across columns** for each row (per product–region).\n"
   ]
  },
  {
   "cell_type": "markdown",
   "id": "c9f46fbd",
   "metadata": {},
   "source": [
    "## Q2. Group-wise Quarter Total (per product across regions)\n",
    "\n",
    "**Question:** Instead of row-wise totals, compute **total sales per product across regions** for each quarter using `groupby()`.\n",
    "\n",
    "**Answer:**"
   ]
  },
  {
   "cell_type": "markdown",
   "id": "7bf45428",
   "metadata": {},
   "source": [
    "👉 Here we are doing a **group aggregation** using `groupby(\"Product\")`:\n",
    "\n",
    "* This combines rows that belong to the **same product**, summing their quarterly sales.\n",
    "* Unlike `.sum(axis=1)` (row-wise), `groupby().sum()` sums **down the rows for each group**.\n"
   ]
  },
  {
   "cell_type": "markdown",
   "id": "00b89e8f",
   "metadata": {},
   "source": [
    "## Q3. Why can’t we use `groupby()` to solve Q1?\n",
    "\n",
    "**Question:** Why can’t we use `groupby()` to get the same result as Q1? Try it and explain the difference.\n",
    "\n",
    "**Answer:**"
   ]
  },
  {
   "cell_type": "markdown",
   "id": "dc5da88a",
   "metadata": {},
   "source": [
    "⚠️ This gives **totals across regions per product**, not the row-wise totals.\n",
    "\n",
    "👉 **Key Difference:**\n",
    "\n",
    "| Operation          | Axis                      | Meaning                                                    | Example                            |\n",
    "| ------------------ | ------------------------- | ---------------------------------------------------------- | ---------------------------------- |\n",
    "| `.sum(axis=1)`     | Across columns (row-wise) | Adds values across quarters **for one product–region row** | \"Laptop in North: sum of Q1–Q4\"    |\n",
    "| `.groupby().sum()` | Across rows (group-wise)  | Adds values down rows **for all regions of a product**     | \"All Laptop sales (North + South)\" |\n",
    "\n",
    "✅ Therefore, **Q1 cannot be solved using `groupby()`**, because `groupby()` is for **combining multiple rows**, while Q1 requires **summing within each row**."
   ]
  },
  {
   "cell_type": "markdown",
   "id": "0c1c21af",
   "metadata": {},
   "source": [
    "# 📝 Assignment: Applying Built-in Functions on DataFrame Columns\n",
    "\n",
    "We will use the following example DataFrame of product prices and quantities:"
   ]
  },
  {
   "cell_type": "code",
   "execution_count": 1,
   "id": "bddddcad",
   "metadata": {
    "lines_to_next_cell": 0
   },
   "outputs": [
    {
     "name": "stdout",
     "output_type": "stream",
     "text": [
      "      Product     Price  Quantity\n",
      "0      Laptop  54999.75         3\n",
      "1      Tablet  24999.40         5\n",
      "2       Phone  18999.99         7\n",
      "3  Headphones   3999.49        10\n",
      "4      Camera  29999.95         2\n"
     ]
    }
   ],
   "source": [
    "import pandas as pd\n",
    "\n",
    "data = {\n",
    "    \"Product\": [\"Laptop\", \"Tablet\", \"Phone\", \"Headphones\", \"Camera\"],\n",
    "    \"Price\": [54999.75, 24999.40, 18999.99, 3999.49, 29999.95],\n",
    "    \"Quantity\": [3, 5, 7, 10, 2]\n",
    "}\n",
    "\n",
    "df = pd.DataFrame(data)\n",
    "print(df)"
   ]
  },
  {
   "cell_type": "markdown",
   "id": "4c507ca4",
   "metadata": {},
   "source": []
  },
  {
   "cell_type": "markdown",
   "id": "b72fac54",
   "metadata": {},
   "source": [
    "## Q1. Use `abs(x)` on Price\n",
    "\n",
    "**Question:** Add a new column with the absolute value of `Price`.\n",
    "\n",
    "**Answer:**"
   ]
  },
  {
   "cell_type": "markdown",
   "id": "7e585394",
   "metadata": {},
   "source": [
    "## Q2. Use `round(x, n)` on Price\n",
    "\n",
    "**Question:** Round the `Price` to 2 decimal places.\n",
    "\n",
    "**Answer:**"
   ]
  },
  {
   "cell_type": "markdown",
   "id": "f28ded43",
   "metadata": {},
   "source": [
    "## Q3. Use `pow(x, y)` on Quantity\n",
    "\n",
    "**Question:** Compute square of `Quantity` using `pow(x, y)`.\n",
    "\n",
    "**Answer:**"
   ]
  },
  {
   "cell_type": "markdown",
   "id": "3312f112",
   "metadata": {},
   "source": [
    "## Q4. Use `divmod(a, b)` on Price\n",
    "\n",
    "**Question:** Divide `Price` by 10000 and return quotient and remainder using `divmod`.\n",
    "\n",
    "**Answer:**"
   ]
  },
  {
   "cell_type": "markdown",
   "id": "38a30179",
   "metadata": {},
   "source": []
  },
  {
   "cell_type": "markdown",
   "id": "2d65d77e",
   "metadata": {},
   "source": [
    "## Q5. Use `len(x)` on Product\n",
    "\n",
    "**Question:** Find the length of each product name.\n",
    "\n",
    "**Answer:**"
   ]
  },
  {
   "cell_type": "markdown",
   "id": "90223a17",
   "metadata": {},
   "source": [
    "## Q6. Use `format(x, '.2f')` on Price\n",
    "\n",
    "**Question:** Format `Price` with 2 decimal places using `format`.\n",
    "\n",
    "**Answer:**"
   ]
  },
  {
   "cell_type": "markdown",
   "id": "14ec1b2d",
   "metadata": {},
   "source": [
    "## Q7. Use f-string for currency formatting\n",
    "\n",
    "**Question:** Format `Price` as Indian Rupees with 2 decimals using f-string.\n",
    "\n",
    "**Answer:**"
   ]
  },
  {
   "cell_type": "markdown",
   "id": "7ac0a783",
   "metadata": {},
   "source": [
    "# 📝 Assignment: Working with Datetime Functions in Python\n"
   ]
  },
  {
   "cell_type": "markdown",
   "id": "4c2e2b32",
   "metadata": {
    "lines_to_next_cell": 0
   },
   "source": [
    "## 1. `datetime.now()`\n",
    "\n",
    "**Q1.** Get the current date and time.  \n",
    "\n",
    "**Answer:**"
   ]
  },
  {
   "cell_type": "markdown",
   "id": "f5dba9c1",
   "metadata": {},
   "source": [
    "**Q2.** Extract only the time from the current datetime.\n",
    "**Answer:**"
   ]
  },
  {
   "cell_type": "markdown",
   "id": "8fa9c174",
   "metadata": {},
   "source": []
  },
  {
   "cell_type": "markdown",
   "id": "ebf0ae41",
   "metadata": {},
   "source": [
    "## 2. `date.today()`\n",
    "\n",
    "**Q1.** Get today’s date.\n",
    "\n",
    "**Answer:**"
   ]
  },
  {
   "cell_type": "markdown",
   "id": "9fed72ab",
   "metadata": {},
   "source": [
    "**Q2.** Print today’s year, month, and day separately.\n",
    "\n",
    "**Answer:**"
   ]
  },
  {
   "cell_type": "markdown",
   "id": "840749e5",
   "metadata": {},
   "source": [
    "## 3. `.year`, `.month`, `.day`\n",
    "\n",
    "**Q1.** Extract the year from today’s date.\n",
    "\n",
    "**Answer:**"
   ]
  },
  {
   "cell_type": "markdown",
   "id": "4610fa26",
   "metadata": {},
   "source": [
    "**Q2.** Extract the month and day from today’s date.\n",
    "\n",
    "**Answer:**"
   ]
  },
  {
   "cell_type": "markdown",
   "id": "5a359f40",
   "metadata": {},
   "source": []
  },
  {
   "cell_type": "markdown",
   "id": "f2784474",
   "metadata": {},
   "source": [
    "## 4. `.hour`\n",
    "\n",
    "**Q1.** Extract the current hour from the system time.\n",
    "\n",
    "**Answer:**"
   ]
  },
  {
   "cell_type": "markdown",
   "id": "32f21bf9",
   "metadata": {},
   "source": [
    "**Q2.** Print whether the current hour is AM or PM.\n",
    "\n",
    "**Answer:**"
   ]
  },
  {
   "cell_type": "markdown",
   "id": "09b8f8a7",
   "metadata": {},
   "source": []
  },
  {
   "cell_type": "markdown",
   "id": "3e10f6b1",
   "metadata": {},
   "source": [
    "## 5. `.minute`\n",
    "\n",
    "**Q1.** Extract the current minute.\n",
    "\n",
    "**Answer:**"
   ]
  },
  {
   "cell_type": "markdown",
   "id": "c208f4a1",
   "metadata": {},
   "source": [
    "**Q2.** Print the time as \"HH\\:MM\".\n",
    "\n",
    "**Answer:**"
   ]
  },
  {
   "cell_type": "markdown",
   "id": "07d04259",
   "metadata": {},
   "source": []
  },
  {
   "cell_type": "markdown",
   "id": "907bfd27",
   "metadata": {},
   "source": [
    "## 6. `.second`\n",
    "\n",
    "**Q1.** Extract the current second.\n",
    "\n",
    "**Answer:**"
   ]
  },
  {
   "cell_type": "markdown",
   "id": "b48a4eac",
   "metadata": {},
   "source": [
    "**Q2.** Print the current time as \"HH\\:MM\\:SS\".\n",
    "\n",
    "**Answer:**"
   ]
  },
  {
   "cell_type": "markdown",
   "id": "d2e73d28",
   "metadata": {},
   "source": [
    "## 7. Month name in words – `strftime(\"%B\")`\n",
    "\n",
    "**Q1.** Print the current month name.\n",
    "\n",
    "**Answer:**"
   ]
  },
  {
   "cell_type": "markdown",
   "id": "38ef5ea6",
   "metadata": {},
   "source": [
    "**Q2.** Print month names for the first 3 months of the year.\n",
    "\n",
    "**Answer:**"
   ]
  },
  {
   "cell_type": "markdown",
   "id": "c5a536f5",
   "metadata": {},
   "source": []
  },
  {
   "cell_type": "markdown",
   "id": "44aaa14b",
   "metadata": {},
   "source": [
    "## 8. Day name in words – `strftime(\"%A\")`\n",
    "\n",
    "**Q1.** Print today’s weekday name.\n",
    "\n",
    "**Answer:**"
   ]
  },
  {
   "cell_type": "markdown",
   "id": "e758ea2f",
   "metadata": {},
   "source": [
    "**Q2.** Print the day name for New Year’s Day 2025.\n",
    "\n",
    "**Answer:**"
   ]
  },
  {
   "cell_type": "markdown",
   "id": "16bd2cd3",
   "metadata": {},
   "source": []
  },
  {
   "cell_type": "markdown",
   "id": "663f8f82",
   "metadata": {},
   "source": [
    "## 9. Convert into date from parts – `date(year, month, day)`\n",
    "\n",
    "**Q1.** Create a date object for Independence Day 2025 (15th August 2025).\n",
    "\n",
    "**Answer:**"
   ]
  },
  {
   "cell_type": "markdown",
   "id": "0a1d1ecd",
   "metadata": {},
   "source": [
    "**Q2.** Create a date object for your birthday in 2025.\n",
    "\n",
    "**Answer:**"
   ]
  },
  {
   "cell_type": "markdown",
   "id": "20a9661f",
   "metadata": {},
   "source": []
  },
  {
   "cell_type": "markdown",
   "id": "c334ad7a",
   "metadata": {},
   "source": [
    "## 10. Date differences using `relativedelta`\n",
    "\n",
    "**Q1.** Find the difference in years, months, and days between 1-Jan-2020 and today.\n",
    "\n",
    "**Answer:**"
   ]
  },
  {
   "cell_type": "markdown",
   "id": "6ddd2708",
   "metadata": {},
   "source": [
    "**Q2.** Find how many complete quarters (3-month periods) are between 1-Jan-2020 and today.\n",
    "\n",
    "**Answer:**"
   ]
  },
  {
   "cell_type": "markdown",
   "id": "eb3f68a8",
   "metadata": {},
   "source": []
  },
  {
   "cell_type": "markdown",
   "id": "3c647772",
   "metadata": {},
   "source": [
    "## 11. Adding to a date using `relativedelta`\n",
    "\n",
    "**Q1.** Add 6 months to today’s date.\n",
    "\n",
    "**Answer:**"
   ]
  },
  {
   "cell_type": "markdown",
   "id": "8bd6da08",
   "metadata": {},
   "source": [
    "**Q2.** Add 2 years and 10 days to today’s date.\n",
    "\n",
    "**Answer:**"
   ]
  }
 ],
 "metadata": {
  "kernelspec": {
   "display_name": "Python 3 (ipykernel)",
   "language": "python",
   "name": "python3"
  },
  "language_info": {
   "codemirror_mode": {
    "name": "ipython",
    "version": 3
   },
   "file_extension": ".py",
   "mimetype": "text/x-python",
   "name": "python",
   "nbconvert_exporter": "python",
   "pygments_lexer": "ipython3",
   "version": "3.12.3"
  }
 },
 "nbformat": 4,
 "nbformat_minor": 5
}
