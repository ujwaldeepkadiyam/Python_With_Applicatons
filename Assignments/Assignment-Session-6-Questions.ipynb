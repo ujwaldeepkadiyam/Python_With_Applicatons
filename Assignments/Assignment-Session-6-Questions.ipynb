{
 "cells": [
  {
   "cell_type": "markdown",
   "id": "15ed1191",
   "metadata": {},
   "source": [
    "\n",
    "# 📝 Assignment: Pandas & User-Defined Functions\n",
    "\n",
    "---\n",
    "\n",
    "## Dataset\n",
    "Create the following DataFrame in Python:"
   ]
  },
  {
   "cell_type": "code",
   "execution_count": null,
   "id": "ca54bd79",
   "metadata": {},
   "outputs": [],
   "source": [
    "import pandas as pd\n",
    "\n",
    "# Create dataset\n",
    "data = {\n",
    "    \"Name\": [\"Alice\", \"Bob\", \"Charlie\", \"David\", \"Eva\"],\n",
    "    \"Age\": [25, 30, 22, 35, 28],\n",
    "    \"Salary\": [50000, 60000, 45000, 80000, 70000],\n",
    "    \"Department\": [\"HR\", \"IT\", \"Finance\", \"IT\", \"HR\"]\n",
    "}\n",
    "\n",
    "df = pd.DataFrame(data)\n",
    "df"
   ]
  },
  {
   "cell_type": "markdown",
   "id": "397523aa",
   "metadata": {},
   "source": [
    "---\n",
    "\n",
    "## Question 1: Define Functions and Apply\n",
    "\n",
    "Write **5 user-defined functions** that operate on DataFrame columns and create new columns:\n",
    "\n",
    "1. **Age in 5 Years** – Add 5 to the `Age` column.\n",
    "2. **Salary in Thousands** – Convert `Salary` to thousands.\n",
    "3. **Is Senior** – Return `\"Yes\"` if age ≥ 30, else `\"No\"`.\n",
    "4. **Department Length** – Length of the department name.\n",
    "5. **Bonus** – 10% of the `Salary`.\n",
    "\n",
    "Apply these functions to create new columns in `df`."
   ]
  },
  {
   "cell_type": "markdown",
   "id": "fac6c2f0",
   "metadata": {},
   "source": [
    "---\n",
    "\n",
    "## Question 2: Aggregate and Transform\n",
    "\n",
    "1. Calculate **average age** and **total salary**.\n",
    "2. Increase **Salary** by 5% for all employees using a function."
   ]
  },
  {
   "cell_type": "markdown",
   "id": "f0884c22",
   "metadata": {},
   "source": [
    "---\n",
    "\n",
    "## Question 3: Conditional Column\n",
    "\n",
    "1. Create a new column `\"Tax\"` which is **20% of Salary if Salary ≥ 60000**, else **10%**."
   ]
  },
  {
   "cell_type": "markdown",
   "id": "9c8f624c",
   "metadata": {},
   "source": [
    "---\n",
    "\n",
    "## Question 4: Combine Columns\n",
    "\n",
    "1. Create a new column `\"Profile\"` combining `\"Name\"` and `\"Department\"` as `\"Name (Department)\"`."
   ]
  },
  {
   "cell_type": "markdown",
   "id": "0922ae82",
   "metadata": {},
   "source": [
    "---\n",
    "\n",
    "## Question 5: Custom Transformation\n",
    "\n",
    "1. Create a column `\"Age Group\"`:\n",
    "\n",
    "   * `\"Young\"` if Age < 25\n",
    "   * `\"Mid\"` if 25 ≤ Age < 35\n",
    "   * `\"Senior\"` if Age ≥ 35"
   ]
  },
  {
   "cell_type": "markdown",
   "id": "14703f40",
   "metadata": {},
   "source": [
    "# 📝 Assignment: Lambda Functions on Lists and DataFrames\n",
    "\n",
    "---\n",
    "\n",
    "## Dataset\n",
    "Use the following list and DataFrame:"
   ]
  },
  {
   "cell_type": "code",
   "execution_count": null,
   "id": "89b5f049",
   "metadata": {},
   "outputs": [],
   "source": [
    "from functools import reduce\n",
    "import pandas as pd\n",
    "\n",
    "# List of numbers\n",
    "numbers = [1, 2, 3, 4, 5, 6]\n",
    "\n",
    "# Example DataFrame\n",
    "data = {'A': [1, 2, 3], 'B': [10, 20, 30]}\n",
    "df = pd.DataFrame(data)\n",
    "\n",
    "numbers, df"
   ]
  },
  {
   "cell_type": "markdown",
   "id": "259eb5d2",
   "metadata": {},
   "source": [
    "---\n",
    "\n",
    "## Question 1: Lambda with `map`\n",
    "\n",
    "Double each number using `map` and a lambda function."
   ]
  },
  {
   "cell_type": "markdown",
   "id": "272c476d",
   "metadata": {},
   "source": [
    "---\n",
    "\n",
    "## Question 2: Lambda with `filter`\n",
    "\n",
    "Select only even numbers using `filter` and a lambda function."
   ]
  },
  {
   "cell_type": "markdown",
   "id": "80e5c1c0",
   "metadata": {},
   "source": [
    "---\n",
    "\n",
    "## Question 3: Lambda with `reduce`\n",
    "\n",
    "Compute the **product of all numbers** using `reduce` and a lambda function."
   ]
  },
  {
   "cell_type": "markdown",
   "id": "1b3917ce",
   "metadata": {},
   "source": [
    "---\n",
    "\n",
    "## Question 4: Lambda on Multiple Variables\n",
    "\n",
    "Add pairs of numbers `(1, 2)`, `(3, 4)`, `(5, 6)` using a lambda with multiple arguments."
   ]
  },
  {
   "cell_type": "markdown",
   "id": "c7f2f4c1",
   "metadata": {},
   "source": [
    "---\n",
    "\n",
    "## Question 5: Advanced Lambda (Filter + Map)\n",
    "\n",
    "Filter numbers greater than 3 and double them using a combination of `filter` and `map`."
   ]
  },
  {
   "cell_type": "markdown",
   "id": "a3da7240",
   "metadata": {},
   "source": [
    "---\n",
    "\n",
    "## Question 6: Custom Calculation with Lambda\n",
    "\n",
    "Calculate `(x^2 + 3x + 5)` for each number using `map` and lambda."
   ]
  },
  {
   "cell_type": "markdown",
   "id": "0102e71b",
   "metadata": {},
   "source": [
    "---\n",
    "\n",
    "## Question 7: Lambda Inside List Comprehension\n",
    "\n",
    "Use a **lambda inside a list comprehension** to **square each number**."
   ]
  },
  {
   "cell_type": "markdown",
   "id": "0e43f928",
   "metadata": {},
   "source": [
    "---\n",
    "\n",
    "## Question 8: Lambda with Pandas DataFrame\n",
    "\n",
    "Create a new column `C` in `df` that is the **sum of columns `A` and `B`** using `lambda` and `apply`."
   ]
  },
  {
   "cell_type": "markdown",
   "id": "92738406",
   "metadata": {},
   "source": [
    "---\n",
    "\n",
    "## Question 9: Conditional Lambda in DataFrame\n",
    "\n",
    "Create a new column `D`:\n",
    "\n",
    "* `\"High\"` if `C` ≥ 20\n",
    "* `\"Low\"` otherwise"
   ]
  },
  {
   "cell_type": "markdown",
   "id": "92af55f8",
   "metadata": {},
   "source": [
    "---\n",
    "\n",
    "## Question 10: Lambda for Multiple Column Operations\n",
    "\n",
    "Create a new column `E` which is `(A * 2 + B * 3)` using `lambda` and `apply`."
   ]
  },
  {
   "cell_type": "markdown",
   "id": "78d03f63",
   "metadata": {},
   "source": [
    "\n",
    "\n"
   ]
  },
  {
   "cell_type": "markdown",
   "id": "99eee5bb",
   "metadata": {},
   "source": [
    "# 📝 Assignment: Pandas & Lambda Functions (Advanced)\n",
    "\n",
    "---\n",
    "\n",
    "## Dataset\n",
    "Use the same dataset as before:"
   ]
  },
  {
   "cell_type": "code",
   "execution_count": null,
   "id": "1bee28c5",
   "metadata": {},
   "outputs": [],
   "source": [
    "import pandas as pd\n",
    "\n",
    "# Create dataset\n",
    "data = {\n",
    "    \"Name\": [\"Alice\", \"Bob\", \"Charlie\", \"David\", \"Eva\"],\n",
    "    \"Age\": [25, 30, 22, 35, 28],\n",
    "    \"Salary\": [50000, 60000, 45000, 80000, 70000],\n",
    "    \"Department\": [\"HR\", \"IT\", \"Finance\", \"IT\", \"HR\"]\n",
    "}\n",
    "\n",
    "df = pd.DataFrame(data)\n",
    "df"
   ]
  },
  {
   "cell_type": "markdown",
   "id": "3d1954cd",
   "metadata": {},
   "source": [
    "---\n",
    "\n",
    "## Question 1: Basic Lambda Functions\n",
    "\n",
    "Create **5 new columns** using **lambda functions**:\n",
    "\n",
    "1. **Age in 5 Years** – Add 5 to `Age`.\n",
    "2. **Salary in Thousands** – Convert `Salary` to thousands.\n",
    "3. **Is Senior** – `\"Yes\"` if Age ≥ 30, else `\"No\"`.\n",
    "4. **Department Length** – Length of the department name.\n",
    "5. **Bonus** – 10% of `Salary`."
   ]
  },
  {
   "cell_type": "markdown",
   "id": "b2f231e0",
   "metadata": {},
   "source": [
    "---\n",
    "\n",
    "## Question 2: Aggregate with Lambda\n",
    "\n",
    "1. Calculate **average age** and **total salary** using `lambda` inside `agg`.\n",
    "2. Update Salary by 5% using `lambda`."
   ]
  },
  {
   "cell_type": "markdown",
   "id": "dc7e78f3",
   "metadata": {},
   "source": [
    "---\n",
    "\n",
    "## Question 3: Conditional Column with Lambda\n",
    "\n",
    "Create a column `\"Tax\"`:\n",
    "\n",
    "* 20% of Salary if Salary ≥ 60000\n",
    "* 10% otherwise"
   ]
  },
  {
   "cell_type": "markdown",
   "id": "edb4ef58",
   "metadata": {},
   "source": [
    "---\n",
    "\n",
    "## Question 4: Combine Columns using Lambda\n",
    "\n",
    "Create `\"Profile\"` column: `\"Name (Department)\"`"
   ]
  },
  {
   "cell_type": "markdown",
   "id": "bcbfc85b",
   "metadata": {},
   "source": [
    "---\n",
    "\n",
    "## Question 5: Age Grouping with Lambda\n",
    "\n",
    "Create `\"Age_Group\"` column:\n",
    "\n",
    "* `\"Young\"` if Age < 25\n",
    "* `\"Mid\"` if 25 ≤ Age < 35\n",
    "* `\"Senior\"` if Age ≥ 35"
   ]
  },
  {
   "cell_type": "markdown",
   "id": "70a8c97f",
   "metadata": {},
   "source": [
    "---\n",
    "\n",
    "This **assignment demonstrates:**\n",
    "\n",
    "* Applying **lambda functions** to columns\n",
    "* Conditional logic with `lambda`\n",
    "* Combining columns with `apply(lambda x: ...)`\n",
    "* Aggregation using `lambda`\n",
    "\n",
    "---"
   ]
  },
  {
   "cell_type": "markdown",
   "id": "b94237b9",
   "metadata": {},
   "source": [
    "Sure! Here are **three interesting questions** on **global and local variables**, each with a Python solution. These are structured for a Markdown assignment or Jupyter notebook:\n",
    "\n",
    "---\n",
    "\n",
    "## Question 1: Local vs Global Scope\n",
    "\n",
    "**Question:**\n",
    "What will be the output of the following code? Explain why."
   ]
  },
  {
   "cell_type": "code",
   "execution_count": null,
   "id": "8acde165",
   "metadata": {},
   "outputs": [],
   "source": [
    "x = 10  # global variable\n",
    "\n",
    "def func():\n",
    "    x = 5  # local variable\n",
    "    return x\n",
    "\n",
    "print(func())\n",
    "print(x)"
   ]
  },
  {
   "cell_type": "markdown",
   "id": "30306eac",
   "metadata": {},
   "source": [
    "**Answer:**"
   ]
  },
  {
   "cell_type": "markdown",
   "id": "3b03ccbb",
   "metadata": {},
   "source": [
    "---\n",
    "\n",
    "## Question 2: Modifying Global Variable Inside Function\n",
    "\n",
    "**Question:**\n",
    "Modify the global variable `count` inside a function using the `global` keyword."
   ]
  },
  {
   "cell_type": "code",
   "execution_count": null,
   "id": "6ca66be6",
   "metadata": {},
   "outputs": [],
   "source": [
    "count = 0\n",
    "\n",
    "def increment():\n",
    "    # TODO: increase global count by 1\n",
    "    pass\n",
    "\n",
    "increment()\n",
    "increment()\n",
    "print(count)"
   ]
  },
  {
   "cell_type": "markdown",
   "id": "9ef5417e",
   "metadata": {},
   "source": [
    "**Answer:**"
   ]
  },
  {
   "cell_type": "markdown",
   "id": "1a235697",
   "metadata": {},
   "source": [
    "---\n",
    "\n",
    "## Question 3: Local Variable Overwriting Global\n",
    "\n",
    "**Question:**\n",
    "Predict the output of this code and explain."
   ]
  },
  {
   "cell_type": "code",
   "execution_count": null,
   "id": "c042e0b2",
   "metadata": {},
   "outputs": [],
   "source": [
    "value = 100\n",
    "\n",
    "def update():\n",
    "    value = value + 50\n",
    "    return value\n",
    "\n",
    "print(update())"
   ]
  },
  {
   "cell_type": "markdown",
   "id": "c10dfc60",
   "metadata": {},
   "source": [
    "**Answer:**"
   ]
  },
  {
   "cell_type": "markdown",
   "id": "d049cad9",
   "metadata": {},
   "source": [
    "## Question 4: Banking Balance Update\n",
    "\n",
    "**Problem:**\n",
    "You have a global variable `balance` representing your bank balance. Write a function `deposit(amount)` that adds money to the global balance. Then call the function to deposit 500 and 300, and print the final balance."
   ]
  },
  {
   "cell_type": "markdown",
   "id": "1cde8e7d",
   "metadata": {},
   "source": [
    "```python\n",
    "\n",
    "balance = 1000\n",
    "\n",
    "def deposit(amount):\n",
    "    # TODO: update global balance\n",
    "    pass\n",
    "\n",
    "deposit(500)\n",
    "deposit(300)\n",
    "print(balance)\n",
    "```"
   ]
  },
  {
   "cell_type": "markdown",
   "id": "54aecd0c",
   "metadata": {},
   "source": [
    "**Solution:**"
   ]
  },
  {
   "cell_type": "markdown",
   "id": "56851adc",
   "metadata": {},
   "source": [
    "---\n",
    "\n",
    "## Question 5: Temperature Conversion\n",
    "\n",
    "**Problem:**\n",
    "You have a global variable `temp_celsius`. Write a function `to_fahrenheit()` that converts it to Fahrenheit and returns the result, **without modifying the global variable**. Print both the converted temperature and the original Celsius."
   ]
  },
  {
   "cell_type": "markdown",
   "id": "15eee90f",
   "metadata": {},
   "source": [
    "```python\n",
    "temp_celsius = 25\n",
    "\n",
    "def to_fahrenheit():\n",
    "    # TODO: convert to Fahrenheit using local variable\n",
    "    pass\n",
    "\n",
    "f = to_fahrenheit()\n",
    "print(\"Fahrenheit:\", f)\n",
    "print(\"Celsius:\", temp_celsius)\n",
    "```"
   ]
  },
  {
   "cell_type": "markdown",
   "id": "a154e4dd",
   "metadata": {},
   "source": [
    "**Solution:**"
   ]
  },
  {
   "cell_type": "markdown",
   "id": "646ea154",
   "metadata": {},
   "source": [
    "# 📝 Assignment: Standard vs Dense Ranking in Pandas\n"
   ]
  },
  {
   "cell_type": "markdown",
   "id": "ca181746",
   "metadata": {},
   "source": [
    "## Dataset"
   ]
  },
  {
   "cell_type": "code",
   "execution_count": null,
   "id": "471f2a57",
   "metadata": {},
   "outputs": [],
   "source": [
    "import pandas as pd\n",
    "\n",
    "# Example DataFrame\n",
    "data = {\n",
    "    \"Student\": [\"Alice\", \"Bob\", \"Charlie\", \"David\", \"Eva\"],\n",
    "    \"Score\": [95, 80, 95, 70, 80]\n",
    "}\n",
    "\n",
    "df = pd.DataFrame(data)\n",
    "df"
   ]
  },
  {
   "cell_type": "markdown",
   "id": "a7522599",
   "metadata": {},
   "source": [
    "---\n",
    "\n",
    "## Question 1: Standard Ranking (`rank(method='min')`)\n",
    "\n",
    "**Problem:**\n",
    "Assign **standard ranks** to students based on their scores (higher score = better rank). Use method `'min'` for standard ranking."
   ]
  },
  {
   "cell_type": "markdown",
   "id": "f955bfd2",
   "metadata": {},
   "source": [
    "**Explanation / Output:**\n",
    "\n",
    "| Student | Score | Standard\\_Rank |\n",
    "| ------- | ----- | -------------- |\n",
    "| Alice   | 95    | 1.0            |\n",
    "| Bob     | 80    | 3.0            |\n",
    "| Charlie | 95    | 1.0            |\n",
    "| David   | 70    | 5.0            |\n",
    "| Eva     | 80    | 3.0            |\n",
    "\n",
    "* **Note:** Standard ranking leaves gaps after ties.\n",
    "\n",
    "---\n",
    "\n",
    "## Question 2: Dense Ranking (`rank(method='dense')`)\n",
    "\n",
    "**Problem:**\n",
    "Assign **dense ranks** to students based on their scores (higher score = better rank). Use method `'dense'`."
   ]
  },
  {
   "cell_type": "markdown",
   "id": "4bae667d",
   "metadata": {},
   "source": [
    "**Explanation / Output:**\n",
    "\n",
    "| Student | Score | Dense\\_Rank |\n",
    "| ------- | ----- | ----------- |\n",
    "| Alice   | 95    | 1           |\n",
    "| Bob     | 80    | 2           |\n",
    "| Charlie | 95    | 1           |\n",
    "| David   | 70    | 3           |\n",
    "| Eva     | 80    | 2           |\n",
    "\n",
    "* **Note:** Dense ranking does **not leave gaps** after ties.\n",
    "\n",
    "---\n",
    "\n",
    "## Question 3: Rank in Ascending Order\n",
    "\n",
    "**Problem:**\n",
    "Compute **dense rank in ascending order** (lower score = better rank). Compare with standard ascending rank."
   ]
  },
  {
   "cell_type": "markdown",
   "id": "9a89e827",
   "metadata": {},
   "source": [
    "**Explanation / Output:**\n",
    "\n",
    "| Student | Score | Standard\\_Asc\\_Rank | Dense\\_Asc\\_Rank |\n",
    "| ------- | ----- | ------------------- | ---------------- |\n",
    "| Alice   | 95    | 5.0                 | 3                |\n",
    "| Bob     | 80    | 3.0                 | 2                |\n",
    "| Charlie | 95    | 5.0                 | 3                |\n",
    "| David   | 70    | 1.0                 | 1                |\n",
    "| Eva     | 80    | 3.0                 | 2                |\n",
    "\n",
    "* Standard ranking in ascending order leaves **gaps**.\n",
    "* Dense ranking assigns **consecutive integers** even when scores tie.\n"
   ]
  },
  {
   "cell_type": "markdown",
   "id": "b8d15486",
   "metadata": {},
   "source": [
    "# 📝 Assignment: Row-Level Aggregation in Pandas\n",
    "\n",
    "---\n",
    "\n",
    "## Dataset"
   ]
  },
  {
   "cell_type": "code",
   "execution_count": null,
   "id": "fbe1829c",
   "metadata": {},
   "outputs": [],
   "source": [
    "import pandas as pd\n",
    "\n",
    "# Example DataFrame\n",
    "data = {\n",
    "    \"Student\": [\"Alice\", \"Bob\", \"Charlie\", \"David\", \"Eva\"],\n",
    "    \"Math\": [90, 75, 85, 60, 95],\n",
    "    \"Science\": [85, 80, 78, 70, 88],\n",
    "    \"English\": [92, 70, 80, 65, 90]\n",
    "}\n",
    "\n",
    "df = pd.DataFrame(data)\n",
    "df"
   ]
  },
  {
   "cell_type": "markdown",
   "id": "84bc0e04",
   "metadata": {},
   "source": [
    "---\n",
    "\n",
    "## Question: Compute Row-Level Aggregates\n",
    "\n",
    "**Problem:**\n",
    "For each student, calculate:\n",
    "\n",
    "1. **Total Score** across all subjects\n",
    "2. **Average Score** across all subjects\n",
    "3. **Maximum Score** among subjects\n",
    "\n",
    "Add these as **new columns** in the DataFrame."
   ]
  },
  {
   "cell_type": "markdown",
   "id": "29cfa1a3",
   "metadata": {},
   "source": [
    "Ah, perfect! Using `groupby` will **highlight the difference clearly** because `.apply()` and `.agg()` can reduce the number of rows, whereas `.transform()` preserves the original number of rows. Here’s a full example with a **20-row dataset**:\n",
    "\n",
    "---\n",
    "\n",
    "# 📝 Assignment: `.apply()` vs `.agg()` vs `.transform()` with `groupby`\n",
    "\n",
    "---\n",
    "\n",
    "## Dataset"
   ]
  },
  {
   "cell_type": "code",
   "execution_count": null,
   "id": "da9f64ff",
   "metadata": {},
   "outputs": [],
   "source": [
    "import pandas as pd\n",
    "import numpy as np\n",
    "\n",
    "# 20-row dataset\n",
    "np.random.seed(1)\n",
    "data = {\n",
    "    \"Student\": [f\"Student{i}\" for i in range(1, 21)],\n",
    "    \"Class\": [\"A\"]*5 + [\"B\"]*5 + [\"C\"]*5 + [\"D\"]*5,\n",
    "    \"Math\": np.random.randint(50, 101, 20),\n",
    "    \"Science\": np.random.randint(50, 101, 20),\n",
    "    \"English\": np.random.randint(50, 101, 20)\n",
    "}\n",
    "\n",
    "df = pd.DataFrame(data)\n",
    "df"
   ]
  },
  {
   "cell_type": "markdown",
   "id": "57700275",
   "metadata": {},
   "source": [
    "---\n",
    "\n",
    "## Question: Compute **Class-wise Average Math Score**\n",
    "\n",
    "Use `.groupby()` with `.apply()`, `.agg()`, and `.transform()` and observe the difference.\n",
    "\n",
    "---\n",
    "\n",
    "### 1. Using `.apply()`"
   ]
  },
  {
   "cell_type": "markdown",
   "id": "e806afa7",
   "metadata": {},
   "source": [
    "**Observation:**\n",
    "\n",
    "* Output is a **Series indexed by group**, one row per class:\n",
    "* **Shape reduced**: only 4 rows (one per group).\n",
    "\n",
    "---\n",
    "\n",
    "### 2. Using `.agg()`"
   ]
  },
  {
   "cell_type": "markdown",
   "id": "c61df72b",
   "metadata": {},
   "source": [
    "**Observation:**\n",
    "\n",
    "* Output is a **DataFrame indexed by group**, one row per class with multiple columns:\n",
    "* Shape reduced: **still one row per group**.\n",
    "\n",
    "---\n",
    "\n",
    "### 3. Using `.transform()`"
   ]
  },
  {
   "cell_type": "markdown",
   "id": "98e0491a",
   "metadata": {},
   "source": [
    "**Observation:**\n",
    "\n",
    "* Output **keeps all 20 rows**. Each student gets the **class average** in the new column:\n",
    "* **Key difference:** `.transform()` preserves the **original DataFrame shape**, suitable for adding **group-level statistics back to the original rows**.\n",
    "\n",
    "---\n",
    "\n",
    "### ✅ Key Takeaways\n",
    "\n",
    "| Method         | Output Shape                | Notes                                             |\n",
    "| -------------- | --------------------------- | ------------------------------------------------- |\n",
    "| `.apply()`     | Reduced (one row per group) | Flexible, can return Series or DataFrame          |\n",
    "| `.agg()`       | Reduced (one row per group) | Multiple aggregations at once                     |\n",
    "| `.transform()` | Same as original DataFrame  | Good for **adding group-level stats to each row** |\n",
    "\n"
   ]
  },
  {
   "cell_type": "markdown",
   "id": "ed202ee7",
   "metadata": {},
   "source": [
    "# 📝 Assignment: Using `.transform()` in Pandas\n",
    "\n",
    "---\n",
    "\n",
    "## Dataset"
   ]
  },
  {
   "cell_type": "code",
   "execution_count": null,
   "id": "af922669",
   "metadata": {},
   "outputs": [],
   "source": [
    "import pandas as pd\n",
    "import numpy as np\n",
    "\n",
    "# New dataset: 15 employees in 3 departments\n",
    "np.random.seed(2)\n",
    "data = {\n",
    "    \"Employee\": [f\"Emp{i}\" for i in range(1, 16)],\n",
    "    \"Department\": [\"HR\"]*5 + [\"IT\"]*5 + [\"Finance\"]*5,\n",
    "    \"Salary\": np.random.randint(40000, 90000, 15),\n",
    "    \"Bonus\": np.random.randint(2000, 10000, 15)\n",
    "}\n",
    "\n",
    "df = pd.DataFrame(data)\n",
    "df"
   ]
  },
  {
   "cell_type": "markdown",
   "id": "6d70c7e3",
   "metadata": {},
   "source": [
    "---\n",
    "\n",
    "## Question: Compute Department-Level Statistics Using `.transform()`\n",
    "\n",
    "**Problem:**\n",
    "For each employee, compute:\n",
    "\n",
    "1. **Department Average Salary** → new column `Dept_Avg_Salary`\n",
    "2. **Department Maximum Bonus** → new column `Dept_Max_Bonus`\n",
    "\n",
    "Use `.groupby()` and `.transform()` so that **all 15 rows are preserved**.\n",
    "\n",
    "---\n",
    "\n",
    "### Solution"
   ]
  },
  {
   "cell_type": "markdown",
   "id": "df250d37",
   "metadata": {},
   "source": [
    "**Explanation:**\n",
    "\n",
    "* `.transform()` computes **group-level statistics** while **keeping original DataFrame shape**.\n",
    "* Each employee row gets the **department-level metric**, useful for comparisons.\n",
    "\n"
   ]
  },
  {
   "cell_type": "markdown",
   "id": "32c97e7c",
   "metadata": {},
   "source": [
    "# 📝 Assignment: Using `.transform()` in Pandas\n",
    "\n",
    "---\n",
    "\n",
    "## Dataset"
   ]
  },
  {
   "cell_type": "code",
   "execution_count": null,
   "id": "1e8655cd",
   "metadata": {},
   "outputs": [],
   "source": [
    "import pandas as pd\n",
    "import numpy as np\n",
    "\n",
    "# New dataset: 12 products in 3 categories\n",
    "np.random.seed(3)\n",
    "data = {\n",
    "    \"Product\": [f\"Prod{i}\" for i in range(1, 13)],\n",
    "    \"Category\": [\"Electronics\"]*4 + [\"Clothing\"]*4 + [\"Toys\"]*4,\n",
    "    \"Price\": np.random.randint(50, 500, 12),\n",
    "    \"Units_Sold\": np.random.randint(10, 100, 12)\n",
    "}\n",
    "\n",
    "df = pd.DataFrame(data)\n",
    "df"
   ]
  },
  {
   "cell_type": "markdown",
   "id": "e7f34c35",
   "metadata": {},
   "source": [
    "---\n",
    "\n",
    "## Question: Compute Category-Level Metrics Using `.transform()`\n",
    "\n",
    "**Problem:**\n",
    "For each product, calculate:\n",
    "\n",
    "1. **Category Average Price** → new column `Category_Avg_Price`\n",
    "2. **Category Total Units Sold** → new column `Category_Total_Units`\n",
    "\n",
    "Use `.groupby()` and `.transform()` so that **all 12 rows are preserved**.\n",
    "\n",
    "---\n",
    "\n",
    "### Solution"
   ]
  },
  {
   "cell_type": "markdown",
   "id": "d1aca717",
   "metadata": {},
   "source": [
    "**Notes:**\n",
    "\n",
    "* `.transform()` allows you to **broadcast group-level calculations** to each row.\n",
    "* The shape of `df` remains **the same** as the original DataFrame.\n",
    "* This is useful for adding **group-level statistics** without losing row-level detail.\n",
    "\n"
   ]
  },
  {
   "cell_type": "markdown",
   "id": "7f0e43f3",
   "metadata": {},
   "source": [
    "# 📝 Assignment: Cumulative Sum with `cumsum()`\n",
    "\n",
    "---\n",
    "\n",
    "## Dataset"
   ]
  },
  {
   "cell_type": "code",
   "execution_count": null,
   "id": "e5ce3221",
   "metadata": {},
   "outputs": [],
   "source": [
    "import pandas as pd\n",
    "\n",
    "# New dataset: daily sales for 10 days\n",
    "data = {\n",
    "    \"Day\": [f\"Day{i}\" for i in range(1, 11)],\n",
    "    \"Sales\": [250, 400, 150, 300, 500, 200, 450, 350, 100, 300]\n",
    "}\n",
    "\n",
    "df = pd.DataFrame(data)\n",
    "df"
   ]
  },
  {
   "cell_type": "markdown",
   "id": "13648a7d",
   "metadata": {},
   "source": [
    "---\n",
    "\n",
    "## Question: Compute Cumulative Sales\n",
    "\n",
    "**Problem:**\n",
    "For each day, calculate the **cumulative sum of sales** and store it in a new column called `Cumulative_Sales`. Use `cumsum()`.\n",
    "\n",
    "---\n",
    "\n",
    "### Solution"
   ]
  },
  {
   "cell_type": "markdown",
   "id": "a45f0ca4",
   "metadata": {},
   "source": [
    "**Notes:**\n",
    "\n",
    "* `cumsum()` calculates the **running total** for a column.\n",
    "* Each row shows the sum of all previous rows including the current row.\n"
   ]
  },
  {
   "cell_type": "markdown",
   "id": "94125cb2",
   "metadata": {},
   "source": [
    "# 📝 Assignment: Lead and Lag in Pandas\n",
    "\n",
    "---\n",
    "\n",
    "## Dataset"
   ]
  },
  {
   "cell_type": "code",
   "execution_count": null,
   "id": "b23d52d4",
   "metadata": {},
   "outputs": [],
   "source": [
    "import pandas as pd\n",
    "\n",
    "# Sample dataset: sales data for 12 days\n",
    "data = {\n",
    "    \"Day\": [f\"Day{i}\" for i in range(1, 13)],\n",
    "    \"Sales\": [200, 250, 300, 280, 260, 310, 330, 290, 270, 350, 340, 360]\n",
    "}\n",
    "\n",
    "df = pd.DataFrame(data)\n",
    "df"
   ]
  },
  {
   "cell_type": "markdown",
   "id": "fb8c073f",
   "metadata": {},
   "source": [
    "---\n",
    "\n",
    "## Question 1: Create a Lag Column\n",
    "\n",
    "**Problem:**\n",
    "Create a new column `Lag_1` which contains the **sales of the previous day** (lag by 1)."
   ]
  },
  {
   "cell_type": "markdown",
   "id": "7896cd52",
   "metadata": {},
   "source": [
    "---\n",
    "\n",
    "## Question 2: Create a Lead Column\n",
    "\n",
    "**Problem:**\n",
    "Create a new column `Lead_1` which contains the **sales of the next day** (lead by 1)."
   ]
  },
  {
   "cell_type": "markdown",
   "id": "351572f3",
   "metadata": {},
   "source": [
    "---\n",
    "\n",
    "## Question 3: Difference with Previous Day\n",
    "\n",
    "**Problem:**\n",
    "Create a new column `Diff_Lag` which shows the **difference between current day sales and previous day sales**."
   ]
  },
  {
   "cell_type": "markdown",
   "id": "9b4685d2",
   "metadata": {},
   "source": [
    "---\n",
    "\n",
    "## Question 4: Difference with Next Day\n",
    "\n",
    "**Problem:**\n",
    "Create a new column `Diff_Lead` which shows the **difference between next day sales and current day sales**."
   ]
  },
  {
   "cell_type": "markdown",
   "id": "c542074b",
   "metadata": {},
   "source": [
    "---\n",
    "\n",
    "✅ **Notes:**\n",
    "\n",
    "* `shift(1)` → lag by 1 (previous row)\n",
    "* `shift(-1)` → lead by 1 (next row)\n",
    "* These operations are very useful in **time series analysis** for computing differences, growth rates, or moving calculations.\n",
    "\n"
   ]
  },
  {
   "cell_type": "markdown",
   "id": "47dad986",
   "metadata": {},
   "source": [
    "# 📝 Assignment: First and Last Values in Pandas\n",
    "\n",
    "---\n",
    "\n",
    "## Dataset"
   ]
  },
  {
   "cell_type": "code",
   "execution_count": null,
   "id": "6fc30ca2",
   "metadata": {},
   "outputs": [],
   "source": [
    "import pandas as pd\n",
    "\n",
    "# Sample dataset: sales data for 12 employees in 3 departments\n",
    "data = {\n",
    "    \"Employee\": [f\"Emp{i}\" for i in range(1, 13)],\n",
    "    \"Department\": [\"HR\"]*4 + [\"IT\"]*4 + [\"Finance\"]*4,\n",
    "    \"Sales\": [250, 300, 280, 260, 310, 330, 290, 270, 400, 420, 380, 390]\n",
    "}\n",
    "\n",
    "df = pd.DataFrame(data)\n",
    "df"
   ]
  },
  {
   "cell_type": "markdown",
   "id": "5023130f",
   "metadata": {},
   "source": [
    "---\n",
    "\n",
    "## Question 1: First Sale Overall\n",
    "\n",
    "**Problem:**\n",
    "Find the **first sales value** in the dataset."
   ]
  },
  {
   "cell_type": "markdown",
   "id": "6c40b9ee",
   "metadata": {},
   "source": [
    "---\n",
    "\n",
    "## Question 2: Last Sale Overall\n",
    "\n",
    "**Problem:**\n",
    "Find the **last sales value** in the dataset."
   ]
  },
  {
   "cell_type": "markdown",
   "id": "fcccc130",
   "metadata": {},
   "source": [
    "---\n",
    "\n",
    "## Question 3: First Sale per Department\n",
    "\n",
    "**Problem:**\n",
    "Find the **first sale for each department** using `groupby()` and `first()`."
   ]
  },
  {
   "cell_type": "markdown",
   "id": "9706eb2a",
   "metadata": {},
   "source": [
    "---\n",
    "\n",
    "## Question 4: Last Sale per Department\n",
    "\n",
    "**Problem:**\n",
    "Find the **last sale for each department** using `groupby()` and `last()`."
   ]
  },
  {
   "cell_type": "markdown",
   "id": "3d0e6ad2",
   "metadata": {},
   "source": [
    "---\n",
    "\n",
    "✅ **Notes:**\n",
    "\n",
    "* `iloc[0]` → first row\n",
    "* `iloc[-1]` → last row\n",
    "* `groupby().first()` → first value **per group**\n",
    "* `groupby().last()` → last value **per group**\n",
    "* These are useful for **time series, grouped summaries, or reporting first/last transactions**.\n",
    "\n",
    "\n",
    "\n"
   ]
  }
 ],
 "metadata": {
  "kernelspec": {
   "display_name": "base",
   "language": "python",
   "name": "python3"
  },
  "language_info": {
   "codemirror_mode": {
    "name": "ipython",
    "version": 3
   },
   "file_extension": ".py",
   "mimetype": "text/x-python",
   "name": "python",
   "nbconvert_exporter": "python",
   "pygments_lexer": "ipython3",
   "version": "3.12.3"
  }
 },
 "nbformat": 4,
 "nbformat_minor": 5
}
